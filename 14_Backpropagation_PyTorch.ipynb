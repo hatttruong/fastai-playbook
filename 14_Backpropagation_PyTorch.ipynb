{
  "nbformat": 4,
  "nbformat_minor": 0,
  "metadata": {
    "colab": {
      "provenance": [],
      "toc_visible": true,
      "authorship_tag": "ABX9TyNC1Z51KEqEUnrGsAcQQ+Cu",
      "include_colab_link": true
    },
    "kernelspec": {
      "name": "python3",
      "display_name": "Python 3"
    },
    "language_info": {
      "name": "python"
    }
  },
  "cells": [
    {
      "cell_type": "markdown",
      "metadata": {
        "id": "view-in-github",
        "colab_type": "text"
      },
      "source": [
        "<a href=\"https://colab.research.google.com/github/hatttruong/fastai-playbook/blob/main/14_Backpropagation_PyTorch.ipynb\" target=\"_parent\"><img src=\"https://colab.research.google.com/assets/colab-badge.svg\" alt=\"Open In Colab\"/></a>"
      ]
    },
    {
      "cell_type": "markdown",
      "source": [
        "In this lecture, I learned:\n",
        "- Implement Multi-Layer Perceptron using Pytorch module nn.Module, nn.ModuleList, nn.Sequential, compared with implementing from the scratch\n",
        "- `__setattr__` func:\n",
        "- `__repr__`\n",
        "- `reduce` function from `functools`\n",
        "- implement from the scratch:\n",
        "    - DataSet:\n",
        "    - DataLoader:\n",
        "    - Sampler: shuffle data using random.shuffle\n",
        "    - Multi-processing\n",
        "    - Validation"
      ],
      "metadata": {
        "id": "gHrXTraoZT24"
      }
    },
    {
      "cell_type": "code",
      "execution_count": null,
      "metadata": {
        "id": "PQ1PGrdmSOnD"
      },
      "outputs": [],
      "source": []
    }
  ]
}