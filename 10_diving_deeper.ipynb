{
  "nbformat": 4,
  "nbformat_minor": 0,
  "metadata": {
    "colab": {
      "provenance": [],
      "toc_visible": true,
      "authorship_tag": "ABX9TyP8DgpUKt6vde2uo3ZOtpYG",
      "include_colab_link": true
    },
    "kernelspec": {
      "name": "python3",
      "display_name": "Python 3"
    },
    "language_info": {
      "name": "python"
    }
  },
  "cells": [
    {
      "cell_type": "markdown",
      "metadata": {
        "id": "view-in-github",
        "colab_type": "text"
      },
      "source": [
        "<a href=\"https://colab.research.google.com/github/hatttruong/fastai-playbook/blob/main/10_diving_deeper.ipynb\" target=\"_parent\"><img src=\"https://colab.research.google.com/assets/colab-badge.svg\" alt=\"Open In Colab\"/></a>"
      ]
    },
    {
      "cell_type": "code",
      "execution_count": 2,
      "metadata": {
        "id": "W4gX6U3i7AVT"
      },
      "outputs": [],
      "source": [
        "arr = [1,2,3,4,5,6,7,8,9,10,11,12,13,14,15,16,17,18]"
      ]
    },
    {
      "cell_type": "code",
      "source": [
        "x = iter(arr)"
      ],
      "metadata": {
        "id": "-X2B09xNLfTu"
      },
      "execution_count": 9,
      "outputs": []
    },
    {
      "cell_type": "code",
      "source": [
        "next(x)"
      ],
      "metadata": {
        "colab": {
          "base_uri": "https://localhost:8080/"
        },
        "id": "zULuLkuRLvA4",
        "outputId": "e0a9d9dc-0ada-456c-e9ce-fc7fd9a60168"
      },
      "execution_count": 12,
      "outputs": [
        {
          "output_type": "execute_result",
          "data": {
            "text/plain": [
              "3"
            ]
          },
          "metadata": {},
          "execution_count": 12
        }
      ]
    },
    {
      "cell_type": "code",
      "source": [
        "from itertools import islice"
      ],
      "metadata": {
        "id": "dlZ-QUB07tX-"
      },
      "execution_count": 3,
      "outputs": []
    },
    {
      "cell_type": "code",
      "source": [
        "iter_arr = iter(arr)\n",
        "is_iter = islice(iter_arr, 9)"
      ],
      "metadata": {
        "id": "kBTNE1ZX71lK"
      },
      "execution_count": 39,
      "outputs": []
    },
    {
      "cell_type": "code",
      "source": [
        "iter_arr = iter(arr)\n",
        "img = list(iter(lambda: list(islice(iter_arr, 6)), []))\n",
        "img"
      ],
      "metadata": {
        "colab": {
          "base_uri": "https://localhost:8080/"
        },
        "id": "SCnQSIxw9F6z",
        "outputId": "44ea9b9d-579b-4f4e-a455-fe5b8729695d"
      },
      "execution_count": 40,
      "outputs": [
        {
          "output_type": "execute_result",
          "data": {
            "text/plain": [
              "[[1, 2, 3, 4, 5, 6], [7, 8, 9, 10, 11, 12], [13, 14, 15, 16, 17, 18]]"
            ]
          },
          "metadata": {},
          "execution_count": 40
        }
      ]
    },
    {
      "cell_type": "code",
      "source": [
        "iter_arr = iter(arr)\n",
        "for x in iter(lambda: list(islice(iter_arr, 6)), []):\n",
        "    print(x)"
      ],
      "metadata": {
        "colab": {
          "base_uri": "https://localhost:8080/"
        },
        "id": "PBzakF_393Of",
        "outputId": "2eb4fb6a-9791-41d4-f779-80bb085506de"
      },
      "execution_count": 41,
      "outputs": [
        {
          "output_type": "stream",
          "name": "stdout",
          "text": [
            "[1, 2, 3, 4, 5, 6]\n",
            "[7, 8, 9, 10, 11, 12]\n",
            "[13, 14, 15, 16, 17, 18]\n"
          ]
        }
      ]
    },
    {
      "cell_type": "code",
      "source": [
        "iter_arr = iter(arr)\n",
        "list(islice(iter_arr, 6))"
      ],
      "metadata": {
        "colab": {
          "base_uri": "https://localhost:8080/"
        },
        "id": "smlFQUaE-DyX",
        "outputId": "1174b018-f884-4923-c61c-c3d0c2ff706e"
      },
      "execution_count": 42,
      "outputs": [
        {
          "output_type": "execute_result",
          "data": {
            "text/plain": [
              "[1, 2, 3, 4, 5, 6]"
            ]
          },
          "metadata": {},
          "execution_count": 42
        }
      ]
    },
    {
      "cell_type": "code",
      "source": [
        "list(islice(iter_arr, 6))"
      ],
      "metadata": {
        "colab": {
          "base_uri": "https://localhost:8080/"
        },
        "id": "LYll9Qc09_Ms",
        "outputId": "5f24945d-1169-4421-d9e9-719d30320c64"
      },
      "execution_count": 45,
      "outputs": [
        {
          "output_type": "execute_result",
          "data": {
            "text/plain": [
              "[]"
            ]
          },
          "metadata": {},
          "execution_count": 45
        }
      ]
    },
    {
      "cell_type": "code",
      "source": [
        "iter??"
      ],
      "metadata": {
        "id": "K8WEI51f-OIf"
      },
      "execution_count": 1,
      "outputs": []
    }
  ]
}