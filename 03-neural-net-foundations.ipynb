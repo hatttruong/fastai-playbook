{
 "cells": [
  {
   "cell_type": "code",
   "execution_count": null,
   "id": "9e95af4e",
   "metadata": {},
   "outputs": [],
   "source": []
  },
  {
   "cell_type": "markdown",
   "id": "eb15ed02",
   "metadata": {},
   "source": [
    "## Which model is the best?\n",
    "\n",
    "Follow this link: https://www.kaggle.com/code/jhoward/which-image-models-are-best/\n",
    "\n",
    "`timm` (Pytorch Image Model) is a libray of Ross Wightman which provides the state-of-the-art pretrained computer vision models.\n",
    "While HF Transformers is quite specific for NLP, `timm` is for comupter vision"
   ]
  },
  {
   "cell_type": "code",
   "execution_count": 1,
   "id": "ecb4b547",
   "metadata": {},
   "outputs": [
    {
     "name": "stdout",
     "output_type": "stream",
     "text": [
      "timm==0.9.2\r\n"
     ]
    }
   ],
   "source": [
    "!pip freeze | grep timm"
   ]
  },
  {
   "cell_type": "code",
   "execution_count": null,
   "id": "f2b4a349",
   "metadata": {},
   "outputs": [],
   "source": []
  },
  {
   "cell_type": "markdown",
   "id": "57405f7a",
   "metadata": {},
   "source": [
    "### Data\n",
    "Ross regularly benchmarks new models as they are added to timm, and puts the results in a CSV in the project's GitHub repo. "
   ]
  },
  {
   "cell_type": "code",
   "execution_count": 2,
   "id": "901be470",
   "metadata": {},
   "outputs": [
    {
     "name": "stdout",
     "output_type": "stream",
     "text": [
      "Cloning into 'pytorch-image-models'...\n",
      "remote: Enumerating objects: 566, done.\u001b[K\n",
      "remote: Counting objects: 100% (566/566), done.\u001b[K\n",
      "remote: Compressing objects: 100% (408/408), done.\u001b[K\n",
      "remote: Total 566 (delta 221), reused 348 (delta 152), pack-reused 0\u001b[K\n",
      "Receiving objects: 100% (566/566), 2.49 MiB | 11.37 MiB/s, done.\n",
      "Resolving deltas: 100% (221/221), done.\n",
      "/Users/hatruong/hagit/fastai-playbook/pytorch-image-models/results\n"
     ]
    }
   ],
   "source": [
    "! git clone --depth 1 https://github.com/rwightman/pytorch-image-models.git\n",
    "%cd pytorch-image-models/results"
   ]
  },
  {
   "cell_type": "markdown",
   "id": "6a4c7920",
   "metadata": {},
   "source": [
    "We use pandas to read result `results-imagenet.csv`"
   ]
  },
  {
   "cell_type": "code",
   "execution_count": 10,
   "id": "0f20ee4d",
   "metadata": {},
   "outputs": [
    {
     "data": {
      "text/html": [
       "<div>\n",
       "<style scoped>\n",
       "    .dataframe tbody tr th:only-of-type {\n",
       "        vertical-align: middle;\n",
       "    }\n",
       "\n",
       "    .dataframe tbody tr th {\n",
       "        vertical-align: top;\n",
       "    }\n",
       "\n",
       "    .dataframe thead th {\n",
       "        text-align: right;\n",
       "    }\n",
       "</style>\n",
       "<table border=\"1\" class=\"dataframe\">\n",
       "  <thead>\n",
       "    <tr style=\"text-align: right;\">\n",
       "      <th></th>\n",
       "      <th>model</th>\n",
       "      <th>top1</th>\n",
       "      <th>top1_err</th>\n",
       "      <th>top5</th>\n",
       "      <th>top5_err</th>\n",
       "      <th>param_count</th>\n",
       "      <th>img_size</th>\n",
       "      <th>crop_pct</th>\n",
       "      <th>interpolation</th>\n",
       "    </tr>\n",
       "  </thead>\n",
       "  <tbody>\n",
       "    <tr>\n",
       "      <th>0</th>\n",
       "      <td>eva02_large_patch14_448.mim_m38m_ft_in22k_in1k</td>\n",
       "      <td>90.052</td>\n",
       "      <td>9.948</td>\n",
       "      <td>99.048</td>\n",
       "      <td>0.952</td>\n",
       "      <td>305.08</td>\n",
       "      <td>448</td>\n",
       "      <td>1.0</td>\n",
       "      <td>bicubic</td>\n",
       "    </tr>\n",
       "    <tr>\n",
       "      <th>1</th>\n",
       "      <td>eva02_large_patch14_448.mim_in22k_ft_in22k_in1k</td>\n",
       "      <td>89.966</td>\n",
       "      <td>10.034</td>\n",
       "      <td>99.012</td>\n",
       "      <td>0.988</td>\n",
       "      <td>305.08</td>\n",
       "      <td>448</td>\n",
       "      <td>1.0</td>\n",
       "      <td>bicubic</td>\n",
       "    </tr>\n",
       "    <tr>\n",
       "      <th>2</th>\n",
       "      <td>eva_giant_patch14_560.m30m_ft_in22k_in1k</td>\n",
       "      <td>89.786</td>\n",
       "      <td>10.214</td>\n",
       "      <td>98.992</td>\n",
       "      <td>1.008</td>\n",
       "      <td>1,014.45</td>\n",
       "      <td>560</td>\n",
       "      <td>1.0</td>\n",
       "      <td>bicubic</td>\n",
       "    </tr>\n",
       "    <tr>\n",
       "      <th>3</th>\n",
       "      <td>eva02_large_patch14_448.mim_in22k_ft_in1k</td>\n",
       "      <td>89.624</td>\n",
       "      <td>10.376</td>\n",
       "      <td>98.950</td>\n",
       "      <td>1.050</td>\n",
       "      <td>305.08</td>\n",
       "      <td>448</td>\n",
       "      <td>1.0</td>\n",
       "      <td>bicubic</td>\n",
       "    </tr>\n",
       "    <tr>\n",
       "      <th>4</th>\n",
       "      <td>eva02_large_patch14_448.mim_m38m_ft_in1k</td>\n",
       "      <td>89.570</td>\n",
       "      <td>10.430</td>\n",
       "      <td>98.922</td>\n",
       "      <td>1.078</td>\n",
       "      <td>305.08</td>\n",
       "      <td>448</td>\n",
       "      <td>1.0</td>\n",
       "      <td>bicubic</td>\n",
       "    </tr>\n",
       "  </tbody>\n",
       "</table>\n",
       "</div>"
      ],
      "text/plain": [
       "                                             model    top1  top1_err    top5  \\\n",
       "0   eva02_large_patch14_448.mim_m38m_ft_in22k_in1k  90.052     9.948  99.048   \n",
       "1  eva02_large_patch14_448.mim_in22k_ft_in22k_in1k  89.966    10.034  99.012   \n",
       "2         eva_giant_patch14_560.m30m_ft_in22k_in1k  89.786    10.214  98.992   \n",
       "3        eva02_large_patch14_448.mim_in22k_ft_in1k  89.624    10.376  98.950   \n",
       "4         eva02_large_patch14_448.mim_m38m_ft_in1k  89.570    10.430  98.922   \n",
       "\n",
       "   top5_err param_count  img_size  crop_pct interpolation  \n",
       "0     0.952      305.08       448       1.0       bicubic  \n",
       "1     0.988      305.08       448       1.0       bicubic  \n",
       "2     1.008    1,014.45       560       1.0       bicubic  \n",
       "3     1.050      305.08       448       1.0       bicubic  \n",
       "4     1.078      305.08       448       1.0       bicubic  "
      ]
     },
     "execution_count": 10,
     "metadata": {},
     "output_type": "execute_result"
    }
   ],
   "source": [
    "import pandas as pd\n",
    "df_result = pd.read_csv(\"results-imagenet.csv\")\n",
    "df_result.head()"
   ]
  },
  {
   "cell_type": "code",
   "execution_count": 12,
   "id": "87557df3",
   "metadata": {},
   "outputs": [
    {
     "data": {
      "text/html": [
       "<div>\n",
       "<style scoped>\n",
       "    .dataframe tbody tr th:only-of-type {\n",
       "        vertical-align: middle;\n",
       "    }\n",
       "\n",
       "    .dataframe tbody tr th {\n",
       "        vertical-align: top;\n",
       "    }\n",
       "\n",
       "    .dataframe thead th {\n",
       "        text-align: right;\n",
       "    }\n",
       "</style>\n",
       "<table border=\"1\" class=\"dataframe\">\n",
       "  <thead>\n",
       "    <tr style=\"text-align: right;\">\n",
       "      <th></th>\n",
       "      <th>model</th>\n",
       "      <th>top1</th>\n",
       "      <th>top1_err</th>\n",
       "      <th>top5</th>\n",
       "      <th>top5_err</th>\n",
       "      <th>param_count</th>\n",
       "      <th>img_size</th>\n",
       "      <th>crop_pct</th>\n",
       "      <th>interpolation</th>\n",
       "      <th>model_org</th>\n",
       "    </tr>\n",
       "  </thead>\n",
       "  <tbody>\n",
       "    <tr>\n",
       "      <th>0</th>\n",
       "      <td>eva02_large_patch14_448</td>\n",
       "      <td>90.052</td>\n",
       "      <td>9.948</td>\n",
       "      <td>99.048</td>\n",
       "      <td>0.952</td>\n",
       "      <td>305.08</td>\n",
       "      <td>448</td>\n",
       "      <td>1.0</td>\n",
       "      <td>bicubic</td>\n",
       "      <td>eva02_large_patch14_448.mim_m38m_ft_in22k_in1k</td>\n",
       "    </tr>\n",
       "    <tr>\n",
       "      <th>1</th>\n",
       "      <td>eva02_large_patch14_448</td>\n",
       "      <td>89.966</td>\n",
       "      <td>10.034</td>\n",
       "      <td>99.012</td>\n",
       "      <td>0.988</td>\n",
       "      <td>305.08</td>\n",
       "      <td>448</td>\n",
       "      <td>1.0</td>\n",
       "      <td>bicubic</td>\n",
       "      <td>eva02_large_patch14_448.mim_in22k_ft_in22k_in1k</td>\n",
       "    </tr>\n",
       "    <tr>\n",
       "      <th>2</th>\n",
       "      <td>eva_giant_patch14_560</td>\n",
       "      <td>89.786</td>\n",
       "      <td>10.214</td>\n",
       "      <td>98.992</td>\n",
       "      <td>1.008</td>\n",
       "      <td>1,014.45</td>\n",
       "      <td>560</td>\n",
       "      <td>1.0</td>\n",
       "      <td>bicubic</td>\n",
       "      <td>eva_giant_patch14_560.m30m_ft_in22k_in1k</td>\n",
       "    </tr>\n",
       "    <tr>\n",
       "      <th>3</th>\n",
       "      <td>eva02_large_patch14_448</td>\n",
       "      <td>89.624</td>\n",
       "      <td>10.376</td>\n",
       "      <td>98.950</td>\n",
       "      <td>1.050</td>\n",
       "      <td>305.08</td>\n",
       "      <td>448</td>\n",
       "      <td>1.0</td>\n",
       "      <td>bicubic</td>\n",
       "      <td>eva02_large_patch14_448.mim_in22k_ft_in1k</td>\n",
       "    </tr>\n",
       "    <tr>\n",
       "      <th>4</th>\n",
       "      <td>eva02_large_patch14_448</td>\n",
       "      <td>89.570</td>\n",
       "      <td>10.430</td>\n",
       "      <td>98.922</td>\n",
       "      <td>1.078</td>\n",
       "      <td>305.08</td>\n",
       "      <td>448</td>\n",
       "      <td>1.0</td>\n",
       "      <td>bicubic</td>\n",
       "      <td>eva02_large_patch14_448.mim_m38m_ft_in1k</td>\n",
       "    </tr>\n",
       "  </tbody>\n",
       "</table>\n",
       "</div>"
      ],
      "text/plain": [
       "                     model    top1  top1_err    top5  top5_err param_count  \\\n",
       "0  eva02_large_patch14_448  90.052     9.948  99.048     0.952      305.08   \n",
       "1  eva02_large_patch14_448  89.966    10.034  99.012     0.988      305.08   \n",
       "2    eva_giant_patch14_560  89.786    10.214  98.992     1.008    1,014.45   \n",
       "3  eva02_large_patch14_448  89.624    10.376  98.950     1.050      305.08   \n",
       "4  eva02_large_patch14_448  89.570    10.430  98.922     1.078      305.08   \n",
       "\n",
       "   img_size  crop_pct interpolation  \\\n",
       "0       448       1.0       bicubic   \n",
       "1       448       1.0       bicubic   \n",
       "2       560       1.0       bicubic   \n",
       "3       448       1.0       bicubic   \n",
       "4       448       1.0       bicubic   \n",
       "\n",
       "                                         model_org  \n",
       "0   eva02_large_patch14_448.mim_m38m_ft_in22k_in1k  \n",
       "1  eva02_large_patch14_448.mim_in22k_ft_in22k_in1k  \n",
       "2         eva_giant_patch14_560.m30m_ft_in22k_in1k  \n",
       "3        eva02_large_patch14_448.mim_in22k_ft_in1k  \n",
       "4         eva02_large_patch14_448.mim_m38m_ft_in1k  "
      ]
     },
     "execution_count": 12,
     "metadata": {},
     "output_type": "execute_result"
    }
   ],
   "source": [
    "df_result['model_org'] = df_result['model']\n",
    "df_result['model'] = df_result['model'].str.split('.').str[0]\n",
    "df_result.head()"
   ]
  },
  {
   "cell_type": "code",
   "execution_count": null,
   "id": "572027b2",
   "metadata": {},
   "outputs": [],
   "source": []
  },
  {
   "cell_type": "code",
   "execution_count": null,
   "id": "271b3dc4",
   "metadata": {},
   "outputs": [],
   "source": []
  },
  {
   "cell_type": "markdown",
   "id": "343cae64",
   "metadata": {},
   "source": [
    "## How does a neural net really work?\n",
    "\n",
    "I follow this link: https://www.kaggle.com/code/jhoward/how-does-a-neural-net-really-work"
   ]
  },
  {
   "cell_type": "markdown",
   "id": "6b8c28e8",
   "metadata": {},
   "source": [
    "### Fitting a function with gradient descent\n",
    "\n",
    "TODO: \n",
    "- Explain what is a layer\n",
    "- Explain what is gradient descent"
   ]
  },
  {
   "cell_type": "code",
   "execution_count": null,
   "id": "c76b26ad",
   "metadata": {},
   "outputs": [],
   "source": [
    "from ipywidgets import interact\n",
    "from fastai.basics import *\n",
    "\n",
    "plt.rc('figure', dpi=90)\n",
    "\n",
    "def plot_function(f, title=None, min=-2.1, max=2.1, color='r', ylim=None):\n",
    "    x = torch.linspace(min,max, 100)[:,None]\n",
    "    if ylim: plt.ylim(ylim)\n",
    "    plt.plot(x, f(x), color)\n",
    "    if title is not None: plt.title(title)\n"
   ]
  },
  {
   "cell_type": "code",
   "execution_count": null,
   "id": "0f80e329",
   "metadata": {},
   "outputs": [],
   "source": []
  },
  {
   "cell_type": "code",
   "execution_count": null,
   "id": "dcc2be2a",
   "metadata": {},
   "outputs": [],
   "source": []
  },
  {
   "cell_type": "code",
   "execution_count": null,
   "id": "21a1931d",
   "metadata": {},
   "outputs": [],
   "source": []
  },
  {
   "cell_type": "code",
   "execution_count": null,
   "id": "4c21f23c",
   "metadata": {},
   "outputs": [],
   "source": []
  }
 ],
 "metadata": {
  "kernelspec": {
   "display_name": "Python 3 (ipykernel)",
   "language": "python",
   "name": "python3"
  },
  "language_info": {
   "codemirror_mode": {
    "name": "ipython",
    "version": 3
   },
   "file_extension": ".py",
   "mimetype": "text/x-python",
   "name": "python",
   "nbconvert_exporter": "python",
   "pygments_lexer": "ipython3",
   "version": "3.10.12"
  },
  "toc": {
   "base_numbering": 1,
   "nav_menu": {},
   "number_sections": true,
   "sideBar": true,
   "skip_h1_title": false,
   "title_cell": "Table of Contents",
   "title_sidebar": "Contents",
   "toc_cell": false,
   "toc_position": {},
   "toc_section_display": true,
   "toc_window_display": false
  }
 },
 "nbformat": 4,
 "nbformat_minor": 5
}
