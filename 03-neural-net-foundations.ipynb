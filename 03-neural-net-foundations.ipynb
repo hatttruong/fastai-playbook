{
  "cells": [
    {
      "cell_type": "code",
      "execution_count": null,
      "id": "9e95af4e",
      "metadata": {
        "id": "9e95af4e"
      },
      "outputs": [],
      "source": []
    },
    {
      "cell_type": "markdown",
      "id": "eb15ed02",
      "metadata": {
        "id": "eb15ed02"
      },
      "source": [
        "## Which model is the best?\n",
        "\n",
        "Follow this link: https://www.kaggle.com/code/jhoward/which-image-models-are-best/\n",
        "\n",
        "`timm` (Pytorch Image Model) is a libray of Ross Wightman which provides the state-of-the-art pretrained computer vision models.\n",
        "While HF Transformers is quite specific for NLP, `timm` is for comupter vision"
      ]
    },
    {
      "cell_type": "code",
      "execution_count": 122,
      "id": "ecb4b547",
      "metadata": {
        "id": "ecb4b547"
      },
      "outputs": [],
      "source": [
        "!pip freeze | grep timm"
      ]
    },
    {
      "cell_type": "code",
      "execution_count": null,
      "id": "f2b4a349",
      "metadata": {
        "id": "f2b4a349"
      },
      "outputs": [],
      "source": []
    },
    {
      "cell_type": "markdown",
      "id": "57405f7a",
      "metadata": {
        "id": "57405f7a"
      },
      "source": [
        "### Data\n",
        "Ross regularly benchmarks new models as they are added to timm, and puts the results in a CSV in the project's GitHub repo."
      ]
    },
    {
      "cell_type": "code",
      "execution_count": null,
      "id": "901be470",
      "metadata": {
        "id": "901be470",
        "outputId": "2d38433b-2b45-47db-8df5-39287a5dd2c3"
      },
      "outputs": [
        {
          "name": "stdout",
          "output_type": "stream",
          "text": [
            "Cloning into 'pytorch-image-models'...\n",
            "remote: Enumerating objects: 566, done.\u001b[K\n",
            "remote: Counting objects: 100% (566/566), done.\u001b[K\n",
            "remote: Compressing objects: 100% (408/408), done.\u001b[K\n",
            "remote: Total 566 (delta 221), reused 348 (delta 152), pack-reused 0\u001b[K\n",
            "Receiving objects: 100% (566/566), 2.49 MiB | 11.37 MiB/s, done.\n",
            "Resolving deltas: 100% (221/221), done.\n",
            "/Users/hatruong/hagit/fastai-playbook/pytorch-image-models/results\n"
          ]
        }
      ],
      "source": [
        "! git clone --depth 1 https://github.com/rwightman/pytorch-image-models.git\n",
        "%cd pytorch-image-models/results"
      ]
    },
    {
      "cell_type": "markdown",
      "id": "6a4c7920",
      "metadata": {
        "id": "6a4c7920"
      },
      "source": [
        "We use pandas to read result `results-imagenet.csv`"
      ]
    },
    {
      "cell_type": "code",
      "execution_count": null,
      "id": "0f20ee4d",
      "metadata": {
        "id": "0f20ee4d",
        "outputId": "05ab91d0-ec31-4478-b1d1-fb801ba3e51f"
      },
      "outputs": [
        {
          "data": {
            "text/html": [
              "<div>\n",
              "<style scoped>\n",
              "    .dataframe tbody tr th:only-of-type {\n",
              "        vertical-align: middle;\n",
              "    }\n",
              "\n",
              "    .dataframe tbody tr th {\n",
              "        vertical-align: top;\n",
              "    }\n",
              "\n",
              "    .dataframe thead th {\n",
              "        text-align: right;\n",
              "    }\n",
              "</style>\n",
              "<table border=\"1\" class=\"dataframe\">\n",
              "  <thead>\n",
              "    <tr style=\"text-align: right;\">\n",
              "      <th></th>\n",
              "      <th>model</th>\n",
              "      <th>top1</th>\n",
              "      <th>top1_err</th>\n",
              "      <th>top5</th>\n",
              "      <th>top5_err</th>\n",
              "      <th>param_count</th>\n",
              "      <th>img_size</th>\n",
              "      <th>crop_pct</th>\n",
              "      <th>interpolation</th>\n",
              "    </tr>\n",
              "  </thead>\n",
              "  <tbody>\n",
              "    <tr>\n",
              "      <th>0</th>\n",
              "      <td>eva02_large_patch14_448.mim_m38m_ft_in22k_in1k</td>\n",
              "      <td>90.052</td>\n",
              "      <td>9.948</td>\n",
              "      <td>99.048</td>\n",
              "      <td>0.952</td>\n",
              "      <td>305.08</td>\n",
              "      <td>448</td>\n",
              "      <td>1.0</td>\n",
              "      <td>bicubic</td>\n",
              "    </tr>\n",
              "    <tr>\n",
              "      <th>1</th>\n",
              "      <td>eva02_large_patch14_448.mim_in22k_ft_in22k_in1k</td>\n",
              "      <td>89.966</td>\n",
              "      <td>10.034</td>\n",
              "      <td>99.012</td>\n",
              "      <td>0.988</td>\n",
              "      <td>305.08</td>\n",
              "      <td>448</td>\n",
              "      <td>1.0</td>\n",
              "      <td>bicubic</td>\n",
              "    </tr>\n",
              "    <tr>\n",
              "      <th>2</th>\n",
              "      <td>eva_giant_patch14_560.m30m_ft_in22k_in1k</td>\n",
              "      <td>89.786</td>\n",
              "      <td>10.214</td>\n",
              "      <td>98.992</td>\n",
              "      <td>1.008</td>\n",
              "      <td>1,014.45</td>\n",
              "      <td>560</td>\n",
              "      <td>1.0</td>\n",
              "      <td>bicubic</td>\n",
              "    </tr>\n",
              "    <tr>\n",
              "      <th>3</th>\n",
              "      <td>eva02_large_patch14_448.mim_in22k_ft_in1k</td>\n",
              "      <td>89.624</td>\n",
              "      <td>10.376</td>\n",
              "      <td>98.950</td>\n",
              "      <td>1.050</td>\n",
              "      <td>305.08</td>\n",
              "      <td>448</td>\n",
              "      <td>1.0</td>\n",
              "      <td>bicubic</td>\n",
              "    </tr>\n",
              "    <tr>\n",
              "      <th>4</th>\n",
              "      <td>eva02_large_patch14_448.mim_m38m_ft_in1k</td>\n",
              "      <td>89.570</td>\n",
              "      <td>10.430</td>\n",
              "      <td>98.922</td>\n",
              "      <td>1.078</td>\n",
              "      <td>305.08</td>\n",
              "      <td>448</td>\n",
              "      <td>1.0</td>\n",
              "      <td>bicubic</td>\n",
              "    </tr>\n",
              "  </tbody>\n",
              "</table>\n",
              "</div>"
            ],
            "text/plain": [
              "                                             model    top1  top1_err    top5  \\\n",
              "0   eva02_large_patch14_448.mim_m38m_ft_in22k_in1k  90.052     9.948  99.048   \n",
              "1  eva02_large_patch14_448.mim_in22k_ft_in22k_in1k  89.966    10.034  99.012   \n",
              "2         eva_giant_patch14_560.m30m_ft_in22k_in1k  89.786    10.214  98.992   \n",
              "3        eva02_large_patch14_448.mim_in22k_ft_in1k  89.624    10.376  98.950   \n",
              "4         eva02_large_patch14_448.mim_m38m_ft_in1k  89.570    10.430  98.922   \n",
              "\n",
              "   top5_err param_count  img_size  crop_pct interpolation  \n",
              "0     0.952      305.08       448       1.0       bicubic  \n",
              "1     0.988      305.08       448       1.0       bicubic  \n",
              "2     1.008    1,014.45       560       1.0       bicubic  \n",
              "3     1.050      305.08       448       1.0       bicubic  \n",
              "4     1.078      305.08       448       1.0       bicubic  "
            ]
          },
          "execution_count": 10,
          "metadata": {},
          "output_type": "execute_result"
        }
      ],
      "source": [
        "import pandas as pd\n",
        "df_result = pd.read_csv(\"results-imagenet.csv\")\n",
        "df_result.head()"
      ]
    },
    {
      "cell_type": "code",
      "execution_count": null,
      "id": "87557df3",
      "metadata": {
        "id": "87557df3",
        "outputId": "6b90c607-7489-4b71-f5ee-81e3c232c314"
      },
      "outputs": [
        {
          "data": {
            "text/html": [
              "<div>\n",
              "<style scoped>\n",
              "    .dataframe tbody tr th:only-of-type {\n",
              "        vertical-align: middle;\n",
              "    }\n",
              "\n",
              "    .dataframe tbody tr th {\n",
              "        vertical-align: top;\n",
              "    }\n",
              "\n",
              "    .dataframe thead th {\n",
              "        text-align: right;\n",
              "    }\n",
              "</style>\n",
              "<table border=\"1\" class=\"dataframe\">\n",
              "  <thead>\n",
              "    <tr style=\"text-align: right;\">\n",
              "      <th></th>\n",
              "      <th>model</th>\n",
              "      <th>top1</th>\n",
              "      <th>top1_err</th>\n",
              "      <th>top5</th>\n",
              "      <th>top5_err</th>\n",
              "      <th>param_count</th>\n",
              "      <th>img_size</th>\n",
              "      <th>crop_pct</th>\n",
              "      <th>interpolation</th>\n",
              "      <th>model_org</th>\n",
              "    </tr>\n",
              "  </thead>\n",
              "  <tbody>\n",
              "    <tr>\n",
              "      <th>0</th>\n",
              "      <td>eva02_large_patch14_448</td>\n",
              "      <td>90.052</td>\n",
              "      <td>9.948</td>\n",
              "      <td>99.048</td>\n",
              "      <td>0.952</td>\n",
              "      <td>305.08</td>\n",
              "      <td>448</td>\n",
              "      <td>1.0</td>\n",
              "      <td>bicubic</td>\n",
              "      <td>eva02_large_patch14_448.mim_m38m_ft_in22k_in1k</td>\n",
              "    </tr>\n",
              "    <tr>\n",
              "      <th>1</th>\n",
              "      <td>eva02_large_patch14_448</td>\n",
              "      <td>89.966</td>\n",
              "      <td>10.034</td>\n",
              "      <td>99.012</td>\n",
              "      <td>0.988</td>\n",
              "      <td>305.08</td>\n",
              "      <td>448</td>\n",
              "      <td>1.0</td>\n",
              "      <td>bicubic</td>\n",
              "      <td>eva02_large_patch14_448.mim_in22k_ft_in22k_in1k</td>\n",
              "    </tr>\n",
              "    <tr>\n",
              "      <th>2</th>\n",
              "      <td>eva_giant_patch14_560</td>\n",
              "      <td>89.786</td>\n",
              "      <td>10.214</td>\n",
              "      <td>98.992</td>\n",
              "      <td>1.008</td>\n",
              "      <td>1,014.45</td>\n",
              "      <td>560</td>\n",
              "      <td>1.0</td>\n",
              "      <td>bicubic</td>\n",
              "      <td>eva_giant_patch14_560.m30m_ft_in22k_in1k</td>\n",
              "    </tr>\n",
              "    <tr>\n",
              "      <th>3</th>\n",
              "      <td>eva02_large_patch14_448</td>\n",
              "      <td>89.624</td>\n",
              "      <td>10.376</td>\n",
              "      <td>98.950</td>\n",
              "      <td>1.050</td>\n",
              "      <td>305.08</td>\n",
              "      <td>448</td>\n",
              "      <td>1.0</td>\n",
              "      <td>bicubic</td>\n",
              "      <td>eva02_large_patch14_448.mim_in22k_ft_in1k</td>\n",
              "    </tr>\n",
              "    <tr>\n",
              "      <th>4</th>\n",
              "      <td>eva02_large_patch14_448</td>\n",
              "      <td>89.570</td>\n",
              "      <td>10.430</td>\n",
              "      <td>98.922</td>\n",
              "      <td>1.078</td>\n",
              "      <td>305.08</td>\n",
              "      <td>448</td>\n",
              "      <td>1.0</td>\n",
              "      <td>bicubic</td>\n",
              "      <td>eva02_large_patch14_448.mim_m38m_ft_in1k</td>\n",
              "    </tr>\n",
              "  </tbody>\n",
              "</table>\n",
              "</div>"
            ],
            "text/plain": [
              "                     model    top1  top1_err    top5  top5_err param_count  \\\n",
              "0  eva02_large_patch14_448  90.052     9.948  99.048     0.952      305.08   \n",
              "1  eva02_large_patch14_448  89.966    10.034  99.012     0.988      305.08   \n",
              "2    eva_giant_patch14_560  89.786    10.214  98.992     1.008    1,014.45   \n",
              "3  eva02_large_patch14_448  89.624    10.376  98.950     1.050      305.08   \n",
              "4  eva02_large_patch14_448  89.570    10.430  98.922     1.078      305.08   \n",
              "\n",
              "   img_size  crop_pct interpolation  \\\n",
              "0       448       1.0       bicubic   \n",
              "1       448       1.0       bicubic   \n",
              "2       560       1.0       bicubic   \n",
              "3       448       1.0       bicubic   \n",
              "4       448       1.0       bicubic   \n",
              "\n",
              "                                         model_org  \n",
              "0   eva02_large_patch14_448.mim_m38m_ft_in22k_in1k  \n",
              "1  eva02_large_patch14_448.mim_in22k_ft_in22k_in1k  \n",
              "2         eva_giant_patch14_560.m30m_ft_in22k_in1k  \n",
              "3        eva02_large_patch14_448.mim_in22k_ft_in1k  \n",
              "4         eva02_large_patch14_448.mim_m38m_ft_in1k  "
            ]
          },
          "execution_count": 12,
          "metadata": {},
          "output_type": "execute_result"
        }
      ],
      "source": [
        "df_result['model_org'] = df_result['model']\n",
        "df_result['model'] = df_result['model'].str.split('.').str[0]\n",
        "df_result.head()"
      ]
    },
    {
      "cell_type": "code",
      "execution_count": null,
      "id": "572027b2",
      "metadata": {
        "id": "572027b2"
      },
      "outputs": [],
      "source": []
    },
    {
      "cell_type": "code",
      "execution_count": null,
      "id": "271b3dc4",
      "metadata": {
        "id": "271b3dc4"
      },
      "outputs": [],
      "source": []
    },
    {
      "cell_type": "markdown",
      "id": "343cae64",
      "metadata": {
        "id": "343cae64"
      },
      "source": [
        "## How does a neural net really work?\n",
        "\n",
        "I follow this link: https://www.kaggle.com/code/jhoward/how-does-a-neural-net-really-work"
      ]
    },
    {
      "cell_type": "code",
      "source": [
        "# here some install to make interact work\n",
        "%pip install -q ipywidgets"
      ],
      "metadata": {
        "id": "MbhmMR1cGDYv",
        "outputId": "4bf23154-47f7-4b47-8d7a-1d195af8e578",
        "colab": {
          "base_uri": "https://localhost:8080/"
        }
      },
      "id": "MbhmMR1cGDYv",
      "execution_count": 88,
      "outputs": [
        {
          "output_type": "stream",
          "name": "stdout",
          "text": [
            "\u001b[?25l     \u001b[90m━━━━━━━━━━━━━━━━━━━━━━━━━━━━━━━━━━━━━━━━\u001b[0m \u001b[32m0.0/1.6 MB\u001b[0m \u001b[31m?\u001b[0m eta \u001b[36m-:--:--\u001b[0m\r\u001b[2K     \u001b[91m━━━━━━━━━━━━━━━━━━━━━━━━━━━━━━\u001b[0m\u001b[91m╸\u001b[0m\u001b[90m━━━━━━━━━\u001b[0m \u001b[32m1.2/1.6 MB\u001b[0m \u001b[31m36.0 MB/s\u001b[0m eta \u001b[36m0:00:01\u001b[0m\r\u001b[2K     \u001b[90m━━━━━━━━━━━━━━━━━━━━━━━━━━━━━━━━━━━━━━━━\u001b[0m \u001b[32m1.6/1.6 MB\u001b[0m \u001b[31m31.7 MB/s\u001b[0m eta \u001b[36m0:00:00\u001b[0m\n",
            "\u001b[?25h"
          ]
        }
      ]
    },
    {
      "cell_type": "code",
      "source": [
        "from ipywidgets import interact, interactive, fixed, interact_manual\n",
        "import ipywidgets as widgets"
      ],
      "metadata": {
        "id": "pKf_70DeGI_k"
      },
      "id": "pKf_70DeGI_k",
      "execution_count": 89,
      "outputs": []
    },
    {
      "cell_type": "markdown",
      "id": "6b8c28e8",
      "metadata": {
        "id": "6b8c28e8"
      },
      "source": [
        "### Fitting a function with gradient descent\n",
        "\n",
        "TODO:\n",
        "- Explain what is a layer\n",
        "- Explain what is gradient descent"
      ]
    },
    {
      "cell_type": "code",
      "execution_count": 93,
      "id": "c76b26ad",
      "metadata": {
        "id": "c76b26ad"
      },
      "outputs": [],
      "source": [
        "from ipywidgets import interact\n",
        "from fastai.basics import *\n",
        "\n",
        "plt.rc('figure', dpi=90)\n",
        "\n",
        "def plot_function(f, title=None, min=-2.1, max=2.1, color='r', ylim=None):\n",
        "    x = torch.linspace(min, max, 100)[:,None]\n",
        "    #\n",
        "    if ylim:\n",
        "        plt.ylim(ylim)\n",
        "    #\n",
        "    plt.plot(x, f(x), color)\n",
        "    #\n",
        "    if title is not None:\n",
        "        plt.title(title)\n",
        "    plt.show()"
      ]
    },
    {
      "cell_type": "code",
      "source": [
        "def f(x):\n",
        "    return 3*x**2 + 2*x + 1\n",
        "\n",
        "plot_function(f, \"$3x^2 + 2x + 1$\")"
      ],
      "metadata": {
        "id": "QtXp7jRMy18A",
        "outputId": "c3fb2031-eb79-42d8-cffb-502fde6e1d4d",
        "colab": {
          "base_uri": "https://localhost:8080/",
          "height": 412
        }
      },
      "id": "QtXp7jRMy18A",
      "execution_count": 94,
      "outputs": [
        {
          "output_type": "display_data",
          "data": {
            "text/plain": [
              "<Figure size 576x432 with 1 Axes>"
            ],
            "image/png": "[encoded data removed]"
          },
          "metadata": {}
        }
      ]
    },
    {
      "cell_type": "code",
      "execution_count": 95,
      "id": "0f80e329",
      "metadata": {
        "id": "0f80e329"
      },
      "outputs": [],
      "source": [
        "# To make it easier to try out different quadratics for fitting a model to the\n",
        "# data we'll create, let's create a function that calculates the value of a point on any quadratic:\n",
        "def quad(a, b, c, x):\n",
        "    return a*x**2 + b*x + c"
      ]
    },
    {
      "cell_type": "code",
      "execution_count": 95,
      "id": "dcc2be2a",
      "metadata": {
        "id": "dcc2be2a"
      },
      "outputs": [],
      "source": []
    },
    {
      "cell_type": "code",
      "execution_count": 96,
      "id": "21a1931d",
      "metadata": {
        "id": "21a1931d"
      },
      "outputs": [],
      "source": [
        "# To fix values passed to a function in python, we use the partial function, like so:\n",
        "# partial is a func of functools.py\n",
        "def mk_quad(a, b, c):\n",
        "    return partial(quad, a, b, c)"
      ]
    },
    {
      "cell_type": "code",
      "execution_count": 96,
      "id": "4c21f23c",
      "metadata": {
        "id": "4c21f23c"
      },
      "outputs": [],
      "source": []
    },
    {
      "cell_type": "code",
      "source": [
        "f2 = mk_quad(3, 2, 1)\n",
        "plot_function(f2, \"f2\")"
      ],
      "metadata": {
        "id": "G5tDiLTs0nZW",
        "outputId": "89592892-9b6a-44fa-c18b-1d22b07bf99b",
        "colab": {
          "base_uri": "https://localhost:8080/",
          "height": 408
        }
      },
      "id": "G5tDiLTs0nZW",
      "execution_count": 97,
      "outputs": [
        {
          "output_type": "display_data",
          "data": {
            "text/plain": [
              "<Figure size 576x432 with 1 Axes>"
            ],
            "image/png": "[encoded data removed]"
          },
          "metadata": {}
        }
      ]
    },
    {
      "cell_type": "code",
      "source": [],
      "metadata": {
        "id": "B7rOCxU20rqy"
      },
      "id": "B7rOCxU20rqy",
      "execution_count": 97,
      "outputs": []
    },
    {
      "cell_type": "markdown",
      "source": [
        "Try to add some noise to func `a*x**2 + b*x + c` and plot them. Here are steps:\n",
        "\n",
        "1.   create a 20-element list of x from -2 to 2 using `torch.linspace` func\n",
        "2.   add some noise to create `y`\n"
      ],
      "metadata": {
        "id": "uPLs_9cX1gZO"
      },
      "id": "uPLs_9cX1gZO"
    },
    {
      "cell_type": "code",
      "source": [
        "np.random.seed(42)\n",
        "x1 = torch.linspace(-2, 2, steps=20)\n",
        "x1.shape"
      ],
      "metadata": {
        "id": "BW5bn81r2ICQ",
        "outputId": "dd1834e3-ee88-43ee-a336-a41ac271513e",
        "colab": {
          "base_uri": "https://localhost:8080/"
        }
      },
      "id": "BW5bn81r2ICQ",
      "execution_count": 98,
      "outputs": [
        {
          "output_type": "execute_result",
          "data": {
            "text/plain": [
              "torch.Size([20])"
            ]
          },
          "metadata": {},
          "execution_count": 98
        }
      ]
    },
    {
      "cell_type": "code",
      "source": [
        "x2 = torch.linspace(-2, 2, steps=20)[:,None]\n",
        "x2.shape"
      ],
      "metadata": {
        "id": "Uc97vxzZ2VGo",
        "outputId": "0fd3eb09-8120-483e-aeb4-e2a73e3daeb0",
        "colab": {
          "base_uri": "https://localhost:8080/"
        }
      },
      "id": "Uc97vxzZ2VGo",
      "execution_count": 99,
      "outputs": [
        {
          "output_type": "execute_result",
          "data": {
            "text/plain": [
              "torch.Size([20, 1])"
            ]
          },
          "metadata": {},
          "execution_count": 99
        }
      ]
    },
    {
      "cell_type": "code",
      "source": [
        "y0 = f(x1)\n",
        "plt.scatter(x1, y0)"
      ],
      "metadata": {
        "id": "WaNTmOI81brc",
        "outputId": "a0d58b50-41df-45ce-e4a7-84a460fa2410",
        "colab": {
          "base_uri": "https://localhost:8080/",
          "height": 407
        }
      },
      "id": "WaNTmOI81brc",
      "execution_count": 100,
      "outputs": [
        {
          "output_type": "execute_result",
          "data": {
            "text/plain": [
              "<matplotlib.collections.PathCollection at 0x798fc62edc00>"
            ]
          },
          "metadata": {},
          "execution_count": 100
        },
        {
          "output_type": "display_data",
          "data": {
            "text/plain": [
              "<Figure size 576x432 with 1 Axes>"
            ],
            "image/png": "[encoded data removed]"
          },
          "metadata": {}
        }
      ]
    },
    {
      "cell_type": "code",
      "source": [
        "np.random.normal(loc=.0, scale=0.5, size=x1.shape)"
      ],
      "metadata": {
        "id": "9A86dw7M11Is",
        "outputId": "ea2e9f64-df30-4800-bf09-12dd50d36693",
        "colab": {
          "base_uri": "https://localhost:8080/"
        }
      },
      "id": "9A86dw7M11Is",
      "execution_count": 101,
      "outputs": [
        {
          "output_type": "execute_result",
          "data": {
            "text/plain": [
              "array([ 0.24835708, -0.06913215,  0.32384427,  0.76151493, -0.11707669,\n",
              "       -0.11706848,  0.78960641,  0.38371736, -0.23473719,  0.27128002,\n",
              "       -0.23170885, -0.23286488,  0.12098114, -0.95664012, -0.86245892,\n",
              "       -0.28114376, -0.50641556,  0.15712367, -0.45401204, -0.70615185])"
            ]
          },
          "metadata": {},
          "execution_count": 101
        }
      ]
    },
    {
      "cell_type": "code",
      "source": [
        "y1 = y0 + np.random.normal(size=x1.shape)\n",
        "y1"
      ],
      "metadata": {
        "id": "rb9BwGj_3yfc",
        "outputId": "261cdb20-4299-41fb-d889-9f71e7cb399f",
        "colab": {
          "base_uri": "https://localhost:8080/"
        }
      },
      "id": "rb9BwGj_3yfc",
      "execution_count": 102,
      "outputs": [
        {
          "output_type": "execute_result",
          "data": {
            "text/plain": [
              "tensor([1.0466e+01, 6.8019e+00, 5.3889e+00, 2.4561e+00, 2.1620e+00, 1.9087e+00,\n",
              "        4.1310e-03, 1.1541e+00, 6.6951e-02, 5.3102e-01, 6.4206e-01, 3.7830e+00,\n",
              "        2.8702e+00, 3.0448e+00, 6.4098e+00, 6.1171e+00, 9.5634e+00, 9.6774e+00,\n",
              "        1.2857e+01, 1.7197e+01], dtype=torch.float64)"
            ]
          },
          "metadata": {},
          "execution_count": 102
        }
      ]
    },
    {
      "cell_type": "code",
      "source": [
        "plt.scatter(x1, y1)"
      ],
      "metadata": {
        "id": "g8Dlcmp-4jvh",
        "outputId": "60e1436c-7bbd-4a15-8d56-0f723140f2a6",
        "colab": {
          "base_uri": "https://localhost:8080/",
          "height": 407
        }
      },
      "id": "g8Dlcmp-4jvh",
      "execution_count": 103,
      "outputs": [
        {
          "output_type": "execute_result",
          "data": {
            "text/plain": [
              "<matplotlib.collections.PathCollection at 0x798fcc5e5180>"
            ]
          },
          "metadata": {},
          "execution_count": 103
        },
        {
          "output_type": "display_data",
          "data": {
            "text/plain": [
              "<Figure size 576x432 with 1 Axes>"
            ],
            "image/png": "[encoded data removed]"
          },
          "metadata": {}
        }
      ]
    },
    {
      "cell_type": "code",
      "source": [
        "@interact(a=1.1, b=1.1, c=1.1)\n",
        "def plot_quad(a, b, c):\n",
        "    plt.scatter(x1, y1)\n",
        "    plot_function(mk_quad(a,b,c), ylim=(-3,13))"
      ],
      "metadata": {
        "id": "K1O2SWk24nLs",
        "outputId": "87e9a9b6-0565-439a-8024-7be3587bc168",
        "colab": {
          "base_uri": "https://localhost:8080/",
          "height": 485,
          "referenced_widgets": [
            "0826727665d44ff2b15b966113dc3979",
            "def65a67639a493db32f889e09e2648e",
            "b582f26291f4450a97536bec81e0b39a",
            "36a297650da048b0a4ba77eb1778a1c3",
            "7e8f8fe816b6469b9f77a28565a2338b",
            "215c500572ff495a840178932dd2ee35",
            "8d5b1091e27b4be1a492cb80cd782b38",
            "2f1ff03fcffa466e83f23474f231c920",
            "b9b2fa81d03841688219fcaa42c0f3ed",
            "340414ec284746caa44d9c9c359d96b0",
            "57a923cdbbfe48a79c5fd93d4e10e797",
            "6f2fa9d8436341bfa3de9e729d4ee5cf",
            "3034b361f837464ab4e64f9d88077aec"
          ]
        }
      },
      "id": "K1O2SWk24nLs",
      "execution_count": 104,
      "outputs": [
        {
          "output_type": "display_data",
          "data": {
            "text/plain": [
              "interactive(children=(FloatSlider(value=1.1, description='a', max=3.3000000000000003, min=-1.1), FloatSlider(v…"
            ],
            "application/vnd.jupyter.widget-view+json": {
              "version_major": 2,
              "version_minor": 0,
              "model_id": "0826727665d44ff2b15b966113dc3979"
            }
          },
          "metadata": {}
        }
      ]
    },
    {
      "cell_type": "code",
      "source": [
        "def noise(x, scale): return np.random.normal(scale=scale, size=x.shape)\n",
        "def add_noise(x, mult, add): return x * (1+noise(x,mult)) + noise(x,add)\n",
        "np.random.seed(42)\n",
        "x = torch.linspace(-2, 2, steps=20)[:,None]\n",
        "y = add_noise(f(x), 0.15, 1.5)\n",
        "x[:5],y[:5]"
      ],
      "metadata": {
        "id": "OE89JfNx5eh5",
        "outputId": "f79b3b22-b648-4dac-813f-6a24010fdf3b",
        "colab": {
          "base_uri": "https://localhost:8080/"
        }
      },
      "id": "OE89JfNx5eh5",
      "execution_count": 105,
      "outputs": [
        {
          "output_type": "execute_result",
          "data": {
            "text/plain": [
              "(tensor([[-2.0000],\n",
              "         [-1.7895],\n",
              "         [-1.5789],\n",
              "         [-1.3684],\n",
              "         [-1.1579]]),\n",
              " tensor([[11.8690],\n",
              "         [ 6.5433],\n",
              "         [ 5.9396],\n",
              "         [ 2.6304],\n",
              "         [ 1.7947]], dtype=torch.float64))"
            ]
          },
          "metadata": {},
          "execution_count": 105
        }
      ]
    },
    {
      "cell_type": "code",
      "source": [
        "plt.scatter(x,y);"
      ],
      "metadata": {
        "id": "N1OJuPaq7PH0",
        "outputId": "f5a40a06-b5fb-434a-fa83-21aa3c9e4e4d",
        "colab": {
          "base_uri": "https://localhost:8080/",
          "height": 389
        }
      },
      "id": "N1OJuPaq7PH0",
      "execution_count": 106,
      "outputs": [
        {
          "output_type": "display_data",
          "data": {
            "text/plain": [
              "<Figure size 576x432 with 1 Axes>"
            ],
            "image/png": "[encoded data removed]"
          },
          "metadata": {}
        }
      ]
    },
    {
      "cell_type": "code",
      "source": [
        "def mae(preds, acts):\n",
        "    return (torch.abs(preds-acts)).mean()"
      ],
      "metadata": {
        "id": "XBUUx4NK7UDp"
      },
      "id": "XBUUx4NK7UDp",
      "execution_count": 107,
      "outputs": []
    },
    {
      "cell_type": "code",
      "source": [
        "@interact(a=1.1, b=1.1, c=1.1)\n",
        "def plot_quad(a, b, c):\n",
        "    f = mk_quad(a,b,c)\n",
        "    plt.scatter(x,y)\n",
        "    loss = mae(f(x), y)\n",
        "    plot_function(f, ylim=(-3,12), title=f\"MAE: {loss:.2f}\")"
      ],
      "metadata": {
        "id": "GTEcyIB57nqf",
        "outputId": "2513d39c-91bd-43e1-d90c-383e4254e447",
        "colab": {
          "base_uri": "https://localhost:8080/",
          "height": 504,
          "referenced_widgets": [
            "ee1126c57f0144349ac0660788b27475",
            "2b9504a491df41d6b3399e5f47acb9a3",
            "75e1954d5a984582b9cc9fe55979e3a6",
            "3e037bb8dbc84640b98702faf476bbf0",
            "32a48686eeb944158d954e227574f2de",
            "7a80c3da2ae34992a6da7f9b6be19526",
            "6011278114e242a09afe6ce4664ec61f",
            "572b82abacaf4bcbb8ad1a0e16c49ce2",
            "24f51c154adb41878c432ffd77f9dd4b",
            "7feaf06a11024f6cb0f353f345d8593b",
            "ea43722a9d4347d4b25eb61b7e754be8",
            "172c4da9199341b48b329f47eefbb10d",
            "328e041f5b4944d0b673e2eed6c06b26"
          ]
        }
      },
      "id": "GTEcyIB57nqf",
      "execution_count": 108,
      "outputs": [
        {
          "output_type": "display_data",
          "data": {
            "text/plain": [
              "interactive(children=(FloatSlider(value=1.1, description='a', max=3.3000000000000003, min=-1.1), FloatSlider(v…"
            ],
            "application/vnd.jupyter.widget-view+json": {
              "version_major": 2,
              "version_minor": 0,
              "model_id": "ee1126c57f0144349ac0660788b27475"
            }
          },
          "metadata": {}
        }
      ]
    },
    {
      "cell_type": "code",
      "source": [],
      "metadata": {
        "id": "Xh0RWu5t7oNf"
      },
      "id": "Xh0RWu5t7oNf",
      "execution_count": 54,
      "outputs": []
    },
    {
      "cell_type": "markdown",
      "source": [
        "### Automating gradient descent"
      ],
      "metadata": {
        "id": "_Sld6g6l8DcJ"
      },
      "id": "_Sld6g6l8DcJ"
    },
    {
      "cell_type": "code",
      "source": [
        "def quad_mae(params):\n",
        "    f = mk_quad(*params)\n",
        "    return mae(f(x), y)"
      ],
      "metadata": {
        "id": "0wrY5UOi8CuN"
      },
      "id": "0wrY5UOi8CuN",
      "execution_count": 109,
      "outputs": []
    },
    {
      "cell_type": "code",
      "source": [
        "quad_mae([1.5, 1.5, 1.5])"
      ],
      "metadata": {
        "id": "J_Yp-aHs8CyA",
        "outputId": "e540bfae-6ef2-48c1-b5dc-3b851b459f21",
        "colab": {
          "base_uri": "https://localhost:8080/"
        }
      },
      "id": "J_Yp-aHs8CyA",
      "execution_count": 110,
      "outputs": [
        {
          "output_type": "execute_result",
          "data": {
            "text/plain": [
              "tensor(1.7041, dtype=torch.float64)"
            ]
          },
          "metadata": {},
          "execution_count": 110
        }
      ]
    },
    {
      "cell_type": "code",
      "source": [
        "abc = torch.tensor([1.5, 1.5, 1.5])\n",
        "abc"
      ],
      "metadata": {
        "id": "McmorBVk8C1B",
        "outputId": "eb053288-8261-4a2c-c563-a9c46cc34791",
        "colab": {
          "base_uri": "https://localhost:8080/"
        }
      },
      "id": "McmorBVk8C1B",
      "execution_count": 111,
      "outputs": [
        {
          "output_type": "execute_result",
          "data": {
            "text/plain": [
              "tensor([1.5000, 1.5000, 1.5000])"
            ]
          },
          "metadata": {},
          "execution_count": 111
        }
      ]
    },
    {
      "cell_type": "code",
      "source": [
        "# set abc to be able to calculate gradient\n",
        "abc.requires_grad_()\n",
        "abc"
      ],
      "metadata": {
        "id": "SjsvXrdPAUQg",
        "outputId": "be45fddf-c87b-4686-f3a0-5173a7080070",
        "colab": {
          "base_uri": "https://localhost:8080/"
        }
      },
      "id": "SjsvXrdPAUQg",
      "execution_count": 112,
      "outputs": [
        {
          "output_type": "execute_result",
          "data": {
            "text/plain": [
              "tensor([1.5000, 1.5000, 1.5000], requires_grad=True)"
            ]
          },
          "metadata": {},
          "execution_count": 112
        }
      ]
    },
    {
      "cell_type": "code",
      "source": [
        "loss = quad_mae(abc)\n",
        "loss"
      ],
      "metadata": {
        "id": "FRAefwjOAYlb",
        "outputId": "b2fcd9ea-474f-47fb-d9e3-083ac0be453a",
        "colab": {
          "base_uri": "https://localhost:8080/"
        }
      },
      "id": "FRAefwjOAYlb",
      "execution_count": 113,
      "outputs": [
        {
          "output_type": "execute_result",
          "data": {
            "text/plain": [
              "tensor(1.7041, dtype=torch.float64, grad_fn=<MeanBackward0>)"
            ]
          },
          "metadata": {},
          "execution_count": 113
        }
      ]
    },
    {
      "cell_type": "code",
      "source": [
        "# calculate backward\n",
        "loss.backward()"
      ],
      "metadata": {
        "id": "ry2uxTOhAhmh"
      },
      "id": "ry2uxTOhAhmh",
      "execution_count": 114,
      "outputs": []
    },
    {
      "cell_type": "code",
      "source": [
        "abc.grad"
      ],
      "metadata": {
        "id": "RTTS-iFTAlb1",
        "outputId": "18db835b-2177-427a-c39c-0e2a0a5afcff",
        "colab": {
          "base_uri": "https://localhost:8080/"
        }
      },
      "id": "RTTS-iFTAlb1",
      "execution_count": 115,
      "outputs": [
        {
          "output_type": "execute_result",
          "data": {
            "text/plain": [
              "tensor([-1.2188,  0.0842, -0.4000])"
            ]
          },
          "metadata": {},
          "execution_count": 115
        }
      ]
    },
    {
      "cell_type": "code",
      "source": [
        "with torch.no_grad():\n",
        "    abc -= abc.grad*0.01\n",
        "    loss = quad_mae(abc)\n",
        "\n",
        "print(f'loss: {loss:0.4f}')"
      ],
      "metadata": {
        "id": "aWSY34vLAroB",
        "outputId": "f0fa74b1-d9eb-41a0-e52f-cdd66a5939ac",
        "colab": {
          "base_uri": "https://localhost:8080/"
        }
      },
      "id": "aWSY34vLAroB",
      "execution_count": 116,
      "outputs": [
        {
          "output_type": "stream",
          "name": "stdout",
          "text": [
            "loss: 1.6876\n"
          ]
        }
      ]
    },
    {
      "cell_type": "code",
      "source": [
        "# do 10 iteration to see the loss\n",
        "for i in range(10):\n",
        "    loss = quad_mae(abc)\n",
        "    loss.backward()\n",
        "    with torch.no_grad(): abc -= abc.grad*0.01\n",
        "    print(f'Iter {i}, loss: {loss: 0.4f}')"
      ],
      "metadata": {
        "id": "yFnBYjNMA-Y8",
        "outputId": "1c3ed212-0128-4a43-87b6-07d9a8357ffb",
        "colab": {
          "base_uri": "https://localhost:8080/"
        }
      },
      "id": "yFnBYjNMA-Y8",
      "execution_count": 117,
      "outputs": [
        {
          "output_type": "stream",
          "name": "stdout",
          "text": [
            "Iter 0, loss:  1.6876\n",
            "Iter 1, loss:  1.6606\n",
            "Iter 2, loss:  1.6208\n",
            "Iter 3, loss:  1.5684\n",
            "Iter 4, loss:  1.5033\n",
            "Iter 5, loss:  1.4392\n",
            "Iter 6, loss:  1.3669\n",
            "Iter 7, loss:  1.2976\n",
            "Iter 8, loss:  1.2534\n",
            "Iter 9, loss:  1.2127\n"
          ]
        }
      ]
    },
    {
      "cell_type": "markdown",
      "source": [
        "As we loop a large number of times, we can see that the loss will increase. Because when we are close to the correct point but continue to update `abc` which make we jump over this point => use learning rate"
      ],
      "metadata": {
        "id": "G6_GAxLSCNwM"
      },
      "id": "G6_GAxLSCNwM"
    },
    {
      "cell_type": "code",
      "source": [],
      "metadata": {
        "id": "LJIAcYC6BqBE"
      },
      "id": "LJIAcYC6BqBE",
      "execution_count": null,
      "outputs": []
    },
    {
      "cell_type": "markdown",
      "source": [
        "### How a neural network approximates any given function\n",
        "\n",
        "- How neural network works?\n",
        "    1. Multiply\n",
        "    2. Replace all negative numbers by zero\n",
        "\n",
        "- In PyTorch, the function `max(x, 0)` is written as `np.clip(x,0)`.\n",
        "- The combination between linear func & max func is called rectified linear function\n",
        "- This Rectified linear func has multiple implementations: `np.clip(x, 0)`, `torch.clip(x, 0)`, `F.relu(x)` (F refer to torch.nn.functional)"
      ],
      "metadata": {
        "id": "tNRp6UfiCpAs"
      },
      "id": "tNRp6UfiCpAs"
    },
    {
      "cell_type": "code",
      "source": [
        "def rectify_linear(m, b, x):\n",
        "    y = m*x + b\n",
        "    return torch.clip(y, 0.)\n"
      ],
      "metadata": {
        "id": "YVYNLFOhDMDL"
      },
      "id": "YVYNLFOhDMDL",
      "execution_count": 118,
      "outputs": []
    },
    {
      "cell_type": "code",
      "source": [
        "# plot func rectify_linear with fixed m & b (m=1 and b=1), and value of x is range from -2.1 to 2.1\n",
        "plot_function(partial(rectify_linear, 1, 1), title=\"rectify linear of y=m*x + b\")"
      ],
      "metadata": {
        "id": "baW8AHYRDSZM",
        "outputId": "b1f6d230-d054-4594-a903-2fced7375e0b",
        "colab": {
          "base_uri": "https://localhost:8080/",
          "height": 408
        }
      },
      "id": "baW8AHYRDSZM",
      "execution_count": 119,
      "outputs": [
        {
          "output_type": "display_data",
          "data": {
            "text/plain": [
              "<Figure size 576x432 with 1 Axes>"
            ],
            "image/png": "[encoded data removed]"
          },
          "metadata": {}
        }
      ]
    },
    {
      "cell_type": "code",
      "source": [
        "import torch.nn.functional as F\n",
        "def rectify_linear_v2(m, b, x):\n",
        "    y = m*x + b\n",
        "    return F.relu(y)\n",
        "\n",
        "plot_function(partial(rectify_linear_v2, 1, 1))"
      ],
      "metadata": {
        "id": "-7tE1-ADDp0u",
        "outputId": "6cf83344-7ff3-45cf-c0f2-1ba5faccbb14",
        "colab": {
          "base_uri": "https://localhost:8080/",
          "height": 389
        }
      },
      "id": "-7tE1-ADDp0u",
      "execution_count": 120,
      "outputs": [
        {
          "output_type": "display_data",
          "data": {
            "text/plain": [
              "<Figure size 576x432 with 1 Axes>"
            ],
            "image/png": "[encoded data removed]"
          },
          "metadata": {}
        }
      ]
    },
    {
      "cell_type": "code",
      "source": [
        "@interact(m=1.5, b=1.5)\n",
        "def plot_relu(m, b):\n",
        "    plot_function(partial(rectify_linear, m, b), ylim=(-1,4))"
      ],
      "metadata": {
        "id": "YcZ_dXCSE3lg",
        "outputId": "807b95aa-ebb4-4787-b18a-176c0347792b",
        "colab": {
          "base_uri": "https://localhost:8080/",
          "height": 458,
          "referenced_widgets": [
            "61ebb9040f654103ae28384762bf9b0f",
            "15178f95e6984ebdb78f7578eed0beb9",
            "9f285107150649e1ae5591ff2a901e28",
            "e0c3d3483ba5474e8f030da134551abd",
            "2f23513b00f64a3e9fcae7914d41a890",
            "4a57ce41a60d43daa2a414984956bb69",
            "0cc5124f4e8f492db45df44b2ea23faf",
            "5b55acf01acf40b4b638e7103059c808",
            "87384322e2b748fe9ad5b486ce108ba0",
            "2f5cb26961f4431e806e6658ed1ba1b1"
          ]
        }
      },
      "id": "YcZ_dXCSE3lg",
      "execution_count": 121,
      "outputs": [
        {
          "output_type": "display_data",
          "data": {
            "text/plain": [
              "interactive(children=(FloatSlider(value=1.5, description='m', max=4.5, min=-1.5), FloatSlider(value=1.5, descr…"
            ],
            "application/vnd.jupyter.widget-view+json": {
              "version_major": 2,
              "version_minor": 0,
              "model_id": "61ebb9040f654103ae28384762bf9b0f"
            }
          },
          "metadata": {}
        }
      ]
    },
    {
      "cell_type": "code",
      "source": [],
      "metadata": {
        "id": "RP2rIt9KHgfr"
      },
      "id": "RP2rIt9KHgfr",
      "execution_count": null,
      "outputs": []
    }
  ],
  "metadata": {
    "kernelspec": {
      "display_name": "Python 3 (ipykernel)",
      "language": "python",
      "name": "python3"
    },
    "language_info": {
      "codemirror_mode": {
        "name": "ipython",
        "version": 3
      },
      "file_extension": ".py",
      "mimetype": "text/x-python",
      "name": "python",
      "nbconvert_exporter": "python",
      "pygments_lexer": "ipython3",
      "version": "3.10.12"
    },
    "toc": {
      "base_numbering": 1,
      "nav_menu": {},
      "number_sections": true,
      "sideBar": true,
      "skip_h1_title": false,
      "title_cell": "Table of Contents",
      "title_sidebar": "Contents",
      "toc_cell": false,
      "toc_position": {},
      "toc_section_display": true,
      "toc_window_display": false
    },
    "colab": {
      "provenance": []
    },
    "widgets": {
      "application/vnd.jupyter.widget-state+json": {
        "0826727665d44ff2b15b966113dc3979": {
          "model_module": "@jupyter-widgets/controls",
          "model_name": "VBoxModel",
          "model_module_version": "1.5.0",
          "state": {
            "_dom_classes": [
              "widget-interact"
            ],
            "_model_module": "@jupyter-widgets/controls",
            "_model_module_version": "1.5.0",
            "_model_name": "VBoxModel",
            "_view_count": null,
            "_view_module": "@jupyter-widgets/controls",
            "_view_module_version": "1.5.0",
            "_view_name": "VBoxView",
            "box_style": "",
            "children": [
              "IPY_MODEL_def65a67639a493db32f889e09e2648e",
              "IPY_MODEL_b582f26291f4450a97536bec81e0b39a",
              "IPY_MODEL_36a297650da048b0a4ba77eb1778a1c3",
              "IPY_MODEL_7e8f8fe816b6469b9f77a28565a2338b"
            ],
            "layout": "IPY_MODEL_215c500572ff495a840178932dd2ee35"
          }
        },
        "def65a67639a493db32f889e09e2648e": {
          "model_module": "@jupyter-widgets/controls",
          "model_name": "FloatSliderModel",
          "model_module_version": "1.5.0",
          "state": {
            "_dom_classes": [],
            "_model_module": "@jupyter-widgets/controls",
            "_model_module_version": "1.5.0",
            "_model_name": "FloatSliderModel",
            "_view_count": null,
            "_view_module": "@jupyter-widgets/controls",
            "_view_module_version": "1.5.0",
            "_view_name": "FloatSliderView",
            "continuous_update": true,
            "description": "a",
            "description_tooltip": null,
            "disabled": false,
            "layout": "IPY_MODEL_8d5b1091e27b4be1a492cb80cd782b38",
            "max": 3.3000000000000003,
            "min": -1.1,
            "orientation": "horizontal",
            "readout": true,
            "readout_format": ".2f",
            "step": 0.1,
            "style": "IPY_MODEL_2f1ff03fcffa466e83f23474f231c920",
            "value": 2.9
          }
        },
        "b582f26291f4450a97536bec81e0b39a": {
          "model_module": "@jupyter-widgets/controls",
          "model_name": "FloatSliderModel",
          "model_module_version": "1.5.0",
          "state": {
            "_dom_classes": [],
            "_model_module": "@jupyter-widgets/controls",
            "_model_module_version": "1.5.0",
            "_model_name": "FloatSliderModel",
            "_view_count": null,
            "_view_module": "@jupyter-widgets/controls",
            "_view_module_version": "1.5.0",
            "_view_name": "FloatSliderView",
            "continuous_update": true,
            "description": "b",
            "description_tooltip": null,
            "disabled": false,
            "layout": "IPY_MODEL_b9b2fa81d03841688219fcaa42c0f3ed",
            "max": 3.3000000000000003,
            "min": -1.1,
            "orientation": "horizontal",
            "readout": true,
            "readout_format": ".2f",
            "step": 0.1,
            "style": "IPY_MODEL_340414ec284746caa44d9c9c359d96b0",
            "value": 1.1
          }
        },
        "36a297650da048b0a4ba77eb1778a1c3": {
          "model_module": "@jupyter-widgets/controls",
          "model_name": "FloatSliderModel",
          "model_module_version": "1.5.0",
          "state": {
            "_dom_classes": [],
            "_model_module": "@jupyter-widgets/controls",
            "_model_module_version": "1.5.0",
            "_model_name": "FloatSliderModel",
            "_view_count": null,
            "_view_module": "@jupyter-widgets/controls",
            "_view_module_version": "1.5.0",
            "_view_name": "FloatSliderView",
            "continuous_update": true,
            "description": "c",
            "description_tooltip": null,
            "disabled": false,
            "layout": "IPY_MODEL_57a923cdbbfe48a79c5fd93d4e10e797",
            "max": 3.3000000000000003,
            "min": -1.1,
            "orientation": "horizontal",
            "readout": true,
            "readout_format": ".2f",
            "step": 0.1,
            "style": "IPY_MODEL_6f2fa9d8436341bfa3de9e729d4ee5cf",
            "value": 1.1
          }
        },
        "7e8f8fe816b6469b9f77a28565a2338b": {
          "model_module": "@jupyter-widgets/output",
          "model_name": "OutputModel",
          "model_module_version": "1.0.0",
          "state": {
            "_dom_classes": [],
            "_model_module": "@jupyter-widgets/output",
            "_model_module_version": "1.0.0",
            "_model_name": "OutputModel",
            "_view_count": null,
            "_view_module": "@jupyter-widgets/output",
            "_view_module_version": "1.0.0",
            "_view_name": "OutputView",
            "layout": "IPY_MODEL_3034b361f837464ab4e64f9d88077aec",
            "msg_id": "",
            "outputs": [
              {
                "output_type": "display_data",
                "data": {
                  "text/plain": "<Figure size 576x432 with 1 Axes>",
                  "image/png": "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\n"
                },
                "metadata": {}
              }
            ]
          }
        },
        "215c500572ff495a840178932dd2ee35": {
          "model_module": "@jupyter-widgets/base",
          "model_name": "LayoutModel",
          "model_module_version": "1.2.0",
          "state": {
            "_model_module": "@jupyter-widgets/base",
            "_model_module_version": "1.2.0",
            "_model_name": "LayoutModel",
            "_view_count": null,
            "_view_module": "@jupyter-widgets/base",
            "_view_module_version": "1.2.0",
            "_view_name": "LayoutView",
            "align_content": null,
            "align_items": null,
            "align_self": null,
            "border": null,
            "bottom": null,
            "display": null,
            "flex": null,
            "flex_flow": null,
            "grid_area": null,
            "grid_auto_columns": null,
            "grid_auto_flow": null,
            "grid_auto_rows": null,
            "grid_column": null,
            "grid_gap": null,
            "grid_row": null,
            "grid_template_areas": null,
            "grid_template_columns": null,
            "grid_template_rows": null,
            "height": null,
            "justify_content": null,
            "justify_items": null,
            "left": null,
            "margin": null,
            "max_height": null,
            "max_width": null,
            "min_height": null,
            "min_width": null,
            "object_fit": null,
            "object_position": null,
            "order": null,
            "overflow": null,
            "overflow_x": null,
            "overflow_y": null,
            "padding": null,
            "right": null,
            "top": null,
            "visibility": null,
            "width": null
          }
        },
        "8d5b1091e27b4be1a492cb80cd782b38": {
          "model_module": "@jupyter-widgets/base",
          "model_name": "LayoutModel",
          "model_module_version": "1.2.0",
          "state": {
            "_model_module": "@jupyter-widgets/base",
            "_model_module_version": "1.2.0",
            "_model_name": "LayoutModel",
            "_view_count": null,
            "_view_module": "@jupyter-widgets/base",
            "_view_module_version": "1.2.0",
            "_view_name": "LayoutView",
            "align_content": null,
            "align_items": null,
            "align_self": null,
            "border": null,
            "bottom": null,
            "display": null,
            "flex": null,
            "flex_flow": null,
            "grid_area": null,
            "grid_auto_columns": null,
            "grid_auto_flow": null,
            "grid_auto_rows": null,
            "grid_column": null,
            "grid_gap": null,
            "grid_row": null,
            "grid_template_areas": null,
            "grid_template_columns": null,
            "grid_template_rows": null,
            "height": null,
            "justify_content": null,
            "justify_items": null,
            "left": null,
            "margin": null,
            "max_height": null,
            "max_width": null,
            "min_height": null,
            "min_width": null,
            "object_fit": null,
            "object_position": null,
            "order": null,
            "overflow": null,
            "overflow_x": null,
            "overflow_y": null,
            "padding": null,
            "right": null,
            "top": null,
            "visibility": null,
            "width": null
          }
        },
        "2f1ff03fcffa466e83f23474f231c920": {
          "model_module": "@jupyter-widgets/controls",
          "model_name": "SliderStyleModel",
          "model_module_version": "1.5.0",
          "state": {
            "_model_module": "@jupyter-widgets/controls",
            "_model_module_version": "1.5.0",
            "_model_name": "SliderStyleModel",
            "_view_count": null,
            "_view_module": "@jupyter-widgets/base",
            "_view_module_version": "1.2.0",
            "_view_name": "StyleView",
            "description_width": "",
            "handle_color": null
          }
        },
        "b9b2fa81d03841688219fcaa42c0f3ed": {
          "model_module": "@jupyter-widgets/base",
          "model_name": "LayoutModel",
          "model_module_version": "1.2.0",
          "state": {
            "_model_module": "@jupyter-widgets/base",
            "_model_module_version": "1.2.0",
            "_model_name": "LayoutModel",
            "_view_count": null,
            "_view_module": "@jupyter-widgets/base",
            "_view_module_version": "1.2.0",
            "_view_name": "LayoutView",
            "align_content": null,
            "align_items": null,
            "align_self": null,
            "border": null,
            "bottom": null,
            "display": null,
            "flex": null,
            "flex_flow": null,
            "grid_area": null,
            "grid_auto_columns": null,
            "grid_auto_flow": null,
            "grid_auto_rows": null,
            "grid_column": null,
            "grid_gap": null,
            "grid_row": null,
            "grid_template_areas": null,
            "grid_template_columns": null,
            "grid_template_rows": null,
            "height": null,
            "justify_content": null,
            "justify_items": null,
            "left": null,
            "margin": null,
            "max_height": null,
            "max_width": null,
            "min_height": null,
            "min_width": null,
            "object_fit": null,
            "object_position": null,
            "order": null,
            "overflow": null,
            "overflow_x": null,
            "overflow_y": null,
            "padding": null,
            "right": null,
            "top": null,
            "visibility": null,
            "width": null
          }
        },
        "340414ec284746caa44d9c9c359d96b0": {
          "model_module": "@jupyter-widgets/controls",
          "model_name": "SliderStyleModel",
          "model_module_version": "1.5.0",
          "state": {
            "_model_module": "@jupyter-widgets/controls",
            "_model_module_version": "1.5.0",
            "_model_name": "SliderStyleModel",
            "_view_count": null,
            "_view_module": "@jupyter-widgets/base",
            "_view_module_version": "1.2.0",
            "_view_name": "StyleView",
            "description_width": "",
            "handle_color": null
          }
        },
        "57a923cdbbfe48a79c5fd93d4e10e797": {
          "model_module": "@jupyter-widgets/base",
          "model_name": "LayoutModel",
          "model_module_version": "1.2.0",
          "state": {
            "_model_module": "@jupyter-widgets/base",
            "_model_module_version": "1.2.0",
            "_model_name": "LayoutModel",
            "_view_count": null,
            "_view_module": "@jupyter-widgets/base",
            "_view_module_version": "1.2.0",
            "_view_name": "LayoutView",
            "align_content": null,
            "align_items": null,
            "align_self": null,
            "border": null,
            "bottom": null,
            "display": null,
            "flex": null,
            "flex_flow": null,
            "grid_area": null,
            "grid_auto_columns": null,
            "grid_auto_flow": null,
            "grid_auto_rows": null,
            "grid_column": null,
            "grid_gap": null,
            "grid_row": null,
            "grid_template_areas": null,
            "grid_template_columns": null,
            "grid_template_rows": null,
            "height": null,
            "justify_content": null,
            "justify_items": null,
            "left": null,
            "margin": null,
            "max_height": null,
            "max_width": null,
            "min_height": null,
            "min_width": null,
            "object_fit": null,
            "object_position": null,
            "order": null,
            "overflow": null,
            "overflow_x": null,
            "overflow_y": null,
            "padding": null,
            "right": null,
            "top": null,
            "visibility": null,
            "width": null
          }
        },
        "6f2fa9d8436341bfa3de9e729d4ee5cf": {
          "model_module": "@jupyter-widgets/controls",
          "model_name": "SliderStyleModel",
          "model_module_version": "1.5.0",
          "state": {
            "_model_module": "@jupyter-widgets/controls",
            "_model_module_version": "1.5.0",
            "_model_name": "SliderStyleModel",
            "_view_count": null,
            "_view_module": "@jupyter-widgets/base",
            "_view_module_version": "1.2.0",
            "_view_name": "StyleView",
            "description_width": "",
            "handle_color": null
          }
        },
        "3034b361f837464ab4e64f9d88077aec": {
          "model_module": "@jupyter-widgets/base",
          "model_name": "LayoutModel",
          "model_module_version": "1.2.0",
          "state": {
            "_model_module": "@jupyter-widgets/base",
            "_model_module_version": "1.2.0",
            "_model_name": "LayoutModel",
            "_view_count": null,
            "_view_module": "@jupyter-widgets/base",
            "_view_module_version": "1.2.0",
            "_view_name": "LayoutView",
            "align_content": null,
            "align_items": null,
            "align_self": null,
            "border": null,
            "bottom": null,
            "display": null,
            "flex": null,
            "flex_flow": null,
            "grid_area": null,
            "grid_auto_columns": null,
            "grid_auto_flow": null,
            "grid_auto_rows": null,
            "grid_column": null,
            "grid_gap": null,
            "grid_row": null,
            "grid_template_areas": null,
            "grid_template_columns": null,
            "grid_template_rows": null,
            "height": null,
            "justify_content": null,
            "justify_items": null,
            "left": null,
            "margin": null,
            "max_height": null,
            "max_width": null,
            "min_height": null,
            "min_width": null,
            "object_fit": null,
            "object_position": null,
            "order": null,
            "overflow": null,
            "overflow_x": null,
            "overflow_y": null,
            "padding": null,
            "right": null,
            "top": null,
            "visibility": null,
            "width": null
          }
        },
        "ee1126c57f0144349ac0660788b27475": {
          "model_module": "@jupyter-widgets/controls",
          "model_name": "VBoxModel",
          "model_module_version": "1.5.0",
          "state": {
            "_dom_classes": [
              "widget-interact"
            ],
            "_model_module": "@jupyter-widgets/controls",
            "_model_module_version": "1.5.0",
            "_model_name": "VBoxModel",
            "_view_count": null,
            "_view_module": "@jupyter-widgets/controls",
            "_view_module_version": "1.5.0",
            "_view_name": "VBoxView",
            "box_style": "",
            "children": [
              "IPY_MODEL_2b9504a491df41d6b3399e5f47acb9a3",
              "IPY_MODEL_75e1954d5a984582b9cc9fe55979e3a6",
              "IPY_MODEL_3e037bb8dbc84640b98702faf476bbf0",
              "IPY_MODEL_32a48686eeb944158d954e227574f2de"
            ],
            "layout": "IPY_MODEL_7a80c3da2ae34992a6da7f9b6be19526"
          }
        },
        "2b9504a491df41d6b3399e5f47acb9a3": {
          "model_module": "@jupyter-widgets/controls",
          "model_name": "FloatSliderModel",
          "model_module_version": "1.5.0",
          "state": {
            "_dom_classes": [],
            "_model_module": "@jupyter-widgets/controls",
            "_model_module_version": "1.5.0",
            "_model_name": "FloatSliderModel",
            "_view_count": null,
            "_view_module": "@jupyter-widgets/controls",
            "_view_module_version": "1.5.0",
            "_view_name": "FloatSliderView",
            "continuous_update": true,
            "description": "a",
            "description_tooltip": null,
            "disabled": false,
            "layout": "IPY_MODEL_6011278114e242a09afe6ce4664ec61f",
            "max": 3.3000000000000003,
            "min": -1.1,
            "orientation": "horizontal",
            "readout": true,
            "readout_format": ".2f",
            "step": 0.1,
            "style": "IPY_MODEL_572b82abacaf4bcbb8ad1a0e16c49ce2",
            "value": 2.3
          }
        },
        "75e1954d5a984582b9cc9fe55979e3a6": {
          "model_module": "@jupyter-widgets/controls",
          "model_name": "FloatSliderModel",
          "model_module_version": "1.5.0",
          "state": {
            "_dom_classes": [],
            "_model_module": "@jupyter-widgets/controls",
            "_model_module_version": "1.5.0",
            "_model_name": "FloatSliderModel",
            "_view_count": null,
            "_view_module": "@jupyter-widgets/controls",
            "_view_module_version": "1.5.0",
            "_view_name": "FloatSliderView",
            "continuous_update": true,
            "description": "b",
            "description_tooltip": null,
            "disabled": false,
            "layout": "IPY_MODEL_24f51c154adb41878c432ffd77f9dd4b",
            "max": 3.3000000000000003,
            "min": -1.1,
            "orientation": "horizontal",
            "readout": true,
            "readout_format": ".2f",
            "step": 0.1,
            "style": "IPY_MODEL_7feaf06a11024f6cb0f353f345d8593b",
            "value": 1.7
          }
        },
        "3e037bb8dbc84640b98702faf476bbf0": {
          "model_module": "@jupyter-widgets/controls",
          "model_name": "FloatSliderModel",
          "model_module_version": "1.5.0",
          "state": {
            "_dom_classes": [],
            "_model_module": "@jupyter-widgets/controls",
            "_model_module_version": "1.5.0",
            "_model_name": "FloatSliderModel",
            "_view_count": null,
            "_view_module": "@jupyter-widgets/controls",
            "_view_module_version": "1.5.0",
            "_view_name": "FloatSliderView",
            "continuous_update": true,
            "description": "c",
            "description_tooltip": null,
            "disabled": false,
            "layout": "IPY_MODEL_ea43722a9d4347d4b25eb61b7e754be8",
            "max": 3.3000000000000003,
            "min": -1.1,
            "orientation": "horizontal",
            "readout": true,
            "readout_format": ".2f",
            "step": 0.1,
            "style": "IPY_MODEL_172c4da9199341b48b329f47eefbb10d",
            "value": 0.9
          }
        },
        "32a48686eeb944158d954e227574f2de": {
          "model_module": "@jupyter-widgets/output",
          "model_name": "OutputModel",
          "model_module_version": "1.0.0",
          "state": {
            "_dom_classes": [],
            "_model_module": "@jupyter-widgets/output",
            "_model_module_version": "1.0.0",
            "_model_name": "OutputModel",
            "_view_count": null,
            "_view_module": "@jupyter-widgets/output",
            "_view_module_version": "1.0.0",
            "_view_name": "OutputView",
            "layout": "IPY_MODEL_328e041f5b4944d0b673e2eed6c06b26",
            "msg_id": "",
            "outputs": [
              {
                "output_type": "display_data",
                "data": {
                  "text/plain": "<Figure size 576x432 with 1 Axes>",
                  "image/png": "iVBORw0KGgoAAAANSUhEUgAAAesAAAGHCAYAAACQxXqAAAAAOXRFWHRTb2Z0d2FyZQBNYXRwbG90bGliIHZlcnNpb24zLjcuMSwgaHR0cHM6Ly9tYXRwbG90bGliLm9yZy/bCgiHAAAACXBIWXMAAA3XAAAN1wFCKJt4AAA7EUlEQVR4nO3df3zNdf/H8cc5oxnDJiUzpuiH/BiSH7mSCumXS367oi5ddFVIpV9XUSPUFaVC+fatLtIV31QXk1pRuCT0gw1TJDY2mV+bsdlmO+f7x5sh2+zHOft8zjnP++12bub82HmJ9jzvz/v9fr0dbrfbjYiIiNiW0+oCREREpGQKaxEREZtTWIuIiNicwlpERMTmFNYiIiI2p7AWERGxOYW1iIiIzSmsRUREbE5hLWKBmJgYHA4Hl19+eZGPX3755TgcDmJiYop8/NJLL8XhcLBjx45zHlu5ciUOh6PI2/Dhw8tc65tvvsntt9/OhRdeiMPhYOXKlaV63bJlyxg8eDCNGzcu8c9yisvlol27djgcDj777LMy1ynizxTWIhapVq0au3bt4scffzzr/h9++IGkpCSqVatW5OvWrl1LUlISAPPnzy/2+//73/9m7dq1Z92eeeaZMtf5/vvvc/jwYW655ZYyvS4uLo5NmzZx8803U7169fM+/5133iElJaXM9YkEAoW1iEVq1KjBTTfdxIIFC866f8GCBdx0003UqFGjyNfNnz+fGjVq0KFDhxLDulWrVnTs2PGs22WXXVbmOr/77rtyBf3UqVNJTEzk3XffJSQkpMTnpqen8+yzzzJ58uQy1ycSCBTWIhYaNGgQH330Eada9Lvdbj766CMGDRpU5PMLCgr46KOP6NWrF/fddx8///wzCQkJXq3R6Szfj4myvG78+PF07tyZm2++uVzvJeLvFNYiFurTpw9paWl8++23AKxevZoDBw7Qp0+fIp+/YsUK0tLSGDRoEP369aNq1arFjq4LCgrIz88/63bmuT2n5s2ttmnTJt577z2mTZtmdSkitqWwFrFQWFgYPXv2LLwUvmDBAnr27Ent2rWLfP78+fMLX1OnTh169OjBggULKOrwvNatW1O1atWzbnPnzi183Ol0EhQU5J0/WBmMHj2aUaNG0bRpU6tLEbEthbWIxQYNGsTHH39Mbm4uH3/8cbGXwPPy8vj000+56667uOCCCwpfm5yczNq1a895/oIFC/jhhx/Out15552Fjz/33HPk5+d75w9VSgsWLGDbtm2MGzfO0jpE7K6K1QWIBLpevXoxfPhwnn32WbKyss4K1DN98cUXZGRkcNttt5GRkQFA165dCQ4OZv78+Vx33XVnPb958+a0aNHC2+WX24kTJ3jiiSd46qmncLlcZGRkkJmZCUBWVhZHjx6lZs2aFlcpYg8aWYtYrEaNGtxxxx1Mnz6dO++8s8RV4AD9+/cnPDyc8PBwGjZsSG5uLgsXLqSgoKAyy66wrKwsUlJSeOyxxwr/PNHR0YC5YtCmTRuLKxSxD42sRWzgwQcfJDc3lwceeKDIx7OysliyZAmDBw/m/vvvP+uxjRs38thjj/HNN9/QvXv3yijXI0JDQ1mxYsVZ9+3bt4/BgwczZcoUbrrpJosqE7EfhbWIDXTt2pWuXbsW+/jixYvJzs5mzJgxdOjQ4azHOnfuzOTJk5k/f/5ZYb1p0yaOHTt21nNr165Ns2bNAJg4cSITJ04877z1jz/+SFJSEnv27AFg1apVHDx4kMaNG9OuXTvANE657777+O2334iKigIgOTmZH374ATDz7Vu3buXjjz+mRo0a3HrrrVSpUuWcP/OpZi8tW7Y8588pEsgU1iI+YP78+Vx++eVFBljVqlUZMGAAH374IW+99Vbh/Xffffc5z7355ptZvnw5YNp7lubS+cyZM89aRX6qbei9997LnDlzzvpeZ65KX7FiBcOGDSv8/cKFC1m4cCFRUVGFoSwipeNwF7XnQ0RERGxDC8xERERsTmEtIiJic+UK65kzZ9KuXTuCg4Pp3bt34f379+/n7rvvJjIyklq1atGmTRtiY2M9VauIiEhAKldYR0REMG7cOEaMGHHW/ceOHaNNmzasW7eOjIwMJk6cyODBg9m6datHihUREQlEFVpgFhMTQ3x8PIsWLSr2OW3btmXUqFHcd9995X0bERGRgObVOev9+/fz888/06pVK2++jYiIiF/z2j7rvLw8Bg0axIABAwobJxQlJiaGCRMmeKsMERERn1DShW6vXAbPy8ujX79+uFwuPv3008ITgkrD4XCUWLCnLNqYytiFCRS4zn2vIKeDV/pH07tNA6/XISIiHpKdDZGRcPQo7N4N9etbXVGpnS/7PH4ZPC8vj/79+5OXl8cnn3xSpqCuTPPWJuEqIqgBXC4389YlV3JFIiJSIR9+COnp0L+/TwV1aZTrMnh+fn7hzeVykZOTg9PpxOFwMGDAALKysvjss88IDg72dL0ek5JxnOI+w7iB1PTsyixHREQqwu2G1183Xz/8sLW1eEG5RtaTJk0iJCSEyZMns2TJEkJCQujRowffffcdixcvZs2aNdStW5fQ0FBCQ0OZMmWKp+uusMiwEBzFPOYAGoRXr8xyRESkIlauhC1b4NprwQ8PgbFdb3DNWYuISJn17g2LF8MHH0ARh9jYXaXPWfuKXtER9GxejyCno3CE7cAEdc/m9egVHWFleSIiUlq7dkFsLFxyiZmv9kMBe0Sm0+lgxuC2xCbsZd66ZFLTs2kQXp2hHaPoFR2B01ncRXIREbGVmTPNnPWDD4JNFzVXVMBeBhcRET9w7JjZrnX8uNmuVa+e1RWViy6Di4iI/3r/fThyBAYN8tmgLg2NrEVExDe5XHD11bBtG/z4I1xzjdUVlZtG1iIi4p+WLTNB3bmzTwd1aSisRUTEN02fbn4dM8baOiqBLoOLiIjv2boVmjeHRo3gt9+gim9vbtJlcBER8T+nWouOHu3zQV0aGlmLiIhvOXgQGjaEoCBISYGwMKsrqjCNrEVExL+8/Tbk5MB99/lFUJeGRtYiIuI78vKgcWPYtw+2b4emTa2uyCM0shYREf/x0Ufw++9w551+E9SlobAWERHf4Haf3q716KPW1lLJFNYiIuIbvv0WNmyA1q3hhhusrqZSKaxFRMQ3vPqq+fWRR8ARWCcjaoGZiIjY36+/wpVXmjOrk5L87ihMLTATERHf99prZs569Gi/C+rS0MhaRETs7dAh0wTF4YA9e6BOHasr8jiNrEVExLfNng3Hj8OwYX4Z1KWhkbWIiNhXbq5pgpKW5ldNUP5II2sREfFdH35oupX17u23QV0aGlmLiIg9ud3QqhVs2WL2WHfubHVFXqORtYiI+KavvjJB3aEDXHed1dVYSmEtIiL2NG2a+XXs2IBrgvJHugwuIiL2s2EDXHMNXHYZbNsGVapYXZFX6TK4iIj4nlOj6sce8/ugLg2NrEVExF6SkszK77Aw2L0bqle3uiKvO1/26eOKiIjYy/TpUFAAo0adE9Qul5vYhL3MW5tESsZxIsNCGNqpMb2iI3A6/XdeWyNrERGxj0OHoFEjcLnMqPqiiwofcrncjJ6/gbjENFwuN27AATidDno2r8eMwW19NrA1Zy0iIr7jrbcgO9u0Fj0jqAFiE/YSl5hGwcmgBnADBS43cYlpxCbsrfRyK4vCWkRE7CEnB2bMAKfTLCz7g3lrk3C5ih59ulxu5q1L9naFllFYi4iIPbz/PuzfD336FNlaNCXjOMVdKHYDqenZXi3PSgprERGxXkEBTJ1qvn7iiSKfEhkWQnEz0g6gQbj/rhpXWIuIiPX+8x/YsQNuvBHaty/yKUM7NS52AZnT6WBoxyhvVmipcoX1zJkzadeuHcHBwfTu3fusxzIzM/nLX/5CrVq1qFevHi+88IIn6hQREX/ldsNLL5mvn3662Kf1io6gZ/N6BDkdhSNsBxB0cjV4r+gIr5dqlXLts46IiGDcuHEsX76clJSUsx4bPXo0hw8fZvfu3ezfv59u3boRFRXFPffc45GCRUTEz3z9Nfz0E7RpA927F/s0p9PBjMFtzT7rdcmkpmfTILw6QztGaZ91SWJiYoiPj2fRokUAZGdnEx4ezpo1a2jXrh0AU6dO5bPPPmPVqlWlK0j7rEVEAku3biawFyyAgQOtrsYSlbrPetu2beTl5dG6devC+1q3bs2mTZuKfU1MTAwOh6PwJiIiAeTHH01QN2kCfftaXY1teTSsjx07Ro0aNahyRtP1sLAwjh49WuxrYmJicLvdhTcREQkg//yn+fWJJ3RgRwk8GtahoaFkZ2eTn59feN+RI0eoWbOmJ99GRET8wfbt8MknUK8e3Huv1dXYmkfD+sorr6Rq1aokJCQU3hcfH0/Lli09+TYiIuIPpk41K8EfeQSqVbO6GlsrV1jn5+eTk5NDfn4+LpeLnJwc8vLyqF69OgMHDmT8+PEcOXKEX3/9lRkzZjB8+HBP1y0iIr4sNRXmzoVateDBB62uxvbKFdaTJk0iJCSEyZMns2TJEkJCQujRowdg9mDXrl2byMhIOnfuzN/+9jdt2xIRkbNNmwYnTsDIkVC7ttXV2J6OyBQRkcp14AA0bmwugSclwcUXW12R5XREpoiI2Mvrr5tjMEeMUFCXkkbWIiJSeY4cgagoE9a//QYNG1pdkS1oZC0iIvbx5psmsO+5R0FdBhpZi4hI5cjONnPVhw7BL7/A5ZdbXZFtaGQtIiL28M47ZnHZgAEK6jLSyFpERLwvNxeaNoWUFEhIgFatrK7IVjSyFhERy7hcbhZtTGX2sPGQksL3Lf/EooILcbk0KCsLdU0XERGvcLncjJ6/geWbUln++fsATGrTl8SFCSzbuo8Zg9v69RnUnqSRtYiIeEVswl7iEtO4c8sKGh5JY+Wl17Cp/uUUuNzEJaYRm7DX6hJ9hsJaRES8Yt7aJMjP56G1HwHwxnWDCh9zudzMW5dsUWW+R2EtIiJekZJxnNt/Wc1l6XtZE9WKDZHNCh9zA6np2dYV52MU1iIi4hUNawUz6jszqp5xxqgawAE0CK9uQVW+SWEtIiJe8eTxrVxxaDffR17NuoYtz3rM6XQwtGOURZX5HoW1iIh4ntvNtf9+C4BZnQfjcJhV3w4gyOmgZ/N69IqOsLBA36KtWyIi4nmxsTgSEnC3b89dT/6VY+t3k5qeTYPw6gztGEWv6Aht2yoDdTATERHPcruhbVuIj4fPP4dbb7W6IttTBzMREalcsbEmqNu3h549ra7GL2hkLSIinnPmqHrpUrjtNqsr8gkaWYuISOU5Naq+9lpd/vYgjaxFRMQzNKouN42sRUSkcmhU7TUKaxERqTi3GyZMMF/HxIBD27I8SWEtIiIVt2gRbNwI7dppVO0FmrMWEZGKcbmgdWvYvFn7qstJc9YiIuJdH39sgrpTJ+2r9hKNrEVEpPwKCqBlS/j5Z1i+HG6+2eqKfJJG1iIi4j3z55ugvuEGuOkmq6vxWxpZi4hI+eTnQ7NmsGMHrFoFXbpYXZHPOl/26dQtEREp5HK5iU3Yy7y1SaRkHCcyLIShnRoXfUrWvHkmqLt1U1B7mUbWIiICmKAePX8DcYlpuFxu3Jjzp50nz5+eMbjt6cDOy4Mrr4SkJFi7Fjp2tLBy36c5axERKZXYhL3EJaZRcDKoAdxAgctNXGIasQl7Tz/5vfdMUN92m4K6EiisRUQEgHlrk3C5ih7duVxu5q1LNr85fhwmTjRfv/BCJVUX2BTWIiICQErGcYq7EOsGUtOzzW9mzYLff4f+/c3BHeJ1CmsREQEgMiyE4jp6O4AG4dUhMxNeegmcztOja/E6r4R1amoqvXv35sILL6Ru3boMGDCAAwcOeOOtRETEQ4Z2anzuiu+TnE4HQztGwfTpcOgQ3HsvXHVVJVcYuLwS1iNHjgQgOTmZXbt2kZOTw8MPP+yNtxIREQ/pFR1Bz+b1CHI6CkfYDiDo5GrwXg0ugFdegapV4bnnrCw14HglrHfu3MmAAQMIDQ2lZs2aDBw4kM2bN3vjrURExEOcTgczBrfllf7RtI0K55JawbSNCueV/tFm29bUl+HoUfj736FxY6vLDShe2Wc9Z84cFi9ezJw5c3C73QwZMoSWLVvy4osvnvPcmJgYJpw6A/Uk7bMWEbGZvXuhSRNzTvXOnXDJJVZX5Fcs2WfduXNn9u/fT3h4OHXq1CE9PZ1//OMfRT43JiYGt9tdeBMRERuaMAFycuDhhxXUFvB4WLtcLrp3707nzp05duwYx44do3PnzvTo0cPTbyUiIpVh2zZ4910IC4OnnrK6moDk8cvgBw8e5KKLLmLPnj1ERkYCsGfPHho1asSBAweoW7duyQWp3aiIiL3072/OrP7nP+HJJ62uxi9V+mXwunXr0rRpU2bNmkVOTg45OTnMmjWLyMjI8wa1iIjYzPffm6Bu0ABGj7a6moDllTnrxYsXs2HDBho0aED9+vX5/vvviY2N9cZbiYiIt7jd8PTT5uuYGAgJsbScQKZTt0REpGhffgk9e5rmJ5s3QxWdquwtOnVLRETKzuU6PaqePFlBbTGFtYiInOv//g/i46FDB7jrLqurCXi6DC4iImfLzTWXvpOSYOVKuOEGqyvye7oMnpZmdQUiIr5l1iwT1HfeqaC2Cf8O60mToGFDWL/e6kpERHxDerr52el0mqMwxRb8O6wjIuDECXj8cbMFQURESjZligns4cPh6qutrkZO8u8564ICaNPGbDn49FMtkhARKUlSElx5pVn5vWMH1K9vdUUBI7DnrIOCYNo08/WTT0JenrX1iIjY2bhx5ufk448rqG3Gv0fWp/TsaTb3v/GG2uWJiBRlwwa45hqoVw9+/RVq1rS6ooByvuwLjLDevBlat4bwcHNpJyzMs99fRMSXud1w001mm9Zbb8EDD1hdUcAJ7Mvgp7RsCcOGwaFD8OKLVlcjImIvS5aYoG7WzCwsE9sJjJE1wN69cPnlZtHZtm0QFeX59xAR8TV5edCihbn0/fnncOutVlcUkDSyPiUiAp54wnTmOdXvVkQk0M2ebYK6Rw+zvkdsKXBG1gBZWXDFFWaU/d130KmTd95HRMQXHD4MTZvCkSOmD3jLllZXFLA0sj5TjRpmwz/Ao4+aU2VERALVpEmnG6AoqG0tsEbWYAK6fXv46Sf44AO4+27vvZeIiF39+is0bw7BwWaXTL16VlcU0DSy/iOnE6ZPN18//TRkZ1tbj4iIFZ54wrRjfuYZBbUPCLywBrj+eujXD1JSTnc4ExEJFMuXw+LF0LgxPPKI1dVIKQTeZfBTdu0y57VWqQLbt0ODBt5/TxERq+XnmyZRiYmwcKEZuIjldBm8OJdeahaZZWfDP/5hdTUiIpXj7bdNUN9wA/Tta3U1UkqBO7IGyMw0J8zs26etXCLi/w4fNs2hMjLMItvWra2uSE7SyLoktWqdbj/68MPayiUi/m3CBBPYw4crqH1MYI+swQR0p07w/ffw7rtw330V+FZuYhP2Mm9tEikZx4kMC2Fop8b0io7A6XR4sGgRkTLauhVatYLQULNt66KLrK5IzqBTt0pj/Xro2BEuvtgsNqtdu8zfwuVyM3r+BuIS03C53LgBB+B0OujZvB4zBrdVYIuINdxuuOUWWLYMXn3VrNcRW9Fl8NLo0AHuvRf274cXXijXt4hN2EtcYhoFJ4MawA0UuNzEJaYRm7DXY+WKiJTJokUmqK+8EkaOtLoaKQeF9SkvvmgOW3/9dfjllzK/fN7aJFyuoj8VuVxu5q1LrmiFIiJll519eiT9xhtwwQXW1iPlorA+pX59GD/e7EEcM8ZcNiqDlIzjFPcKN5Cark5pImKBl1+G5GS46y5zspb4JIX1mcaMMZeJvvoK/vOfMr00MiyE4makHUCD8OoVLk9EpEx27oSXXoJq1cxctfgshfWZLrgAZswwX59qmFJKQzs1LnYBmdPpYGjHKE9UKCJSeo89Brm55hyExo2trkYqQGH9R927m64+u3efPk6zFHpFR9CzeT2CnI7CEbYDCDq5GrxXdIRXyhURKVJc3On+308+aXU1UkHaulWU3buhWTMzf71li+n4UwqF+6zXJZOank2D8OoM7RilfdYiUrlyc8351L/+aqb0eve2uiI5D+2zLq8XXzRHx/XsCZ9/Dg6FrYj4iEmTzIJZ/fzyGQrr8tInUxHxRbt2wdVXmx0tW7ZA06ZWVySloKYo5RUcfHqx2ZgxkJVlbT0iIufjdsPo0ZCTY04TVFD7DYV1SW65xZz1uns3TJxodTUiIiWLjYWlS6FJE3jqKaurEQ/yWljHxsbSunVratSoQUREBLNnz/bWW3nXa6+ZxvevvmouKVUyl8vNoo2p9H1zDR2mLKfvm2tYtDG12G5pIhKgsrLM6YEAM2eavdXiN7wyZx0XF8fw4cP54IMPuP7668nMzCQtLY2rrrrq/AXZZc76TK+9ZvZd/+lPsGoVOCvngoQOBxGRUnvmGbMwtm9f+Phjq6uRMrJkgdm1117LiBEjuP/++8v8WluGdX4+XHstxMdX+BjNsli0MZWxCxMoKGIUHeR08Er/aHq3aVAptYiIjSUmmvOpg4Ph55+hYUOrK5IyqvQFZllZWfz000+kpqZyxRVXcMkll9C/f39+//33Ip8fExODw+EovNlSlSowe7bZ/vDkk3DwYKW8rQ4HEZHzcrng7383g4qJExXUfsrjYZ2eno7b7WbRokUsW7aMHTt2EBwczJAhQ4p8fkxMDG63u/BmWx06mP8hDh2qtG5AOhxERM7r3XdhzRozsj41Zy1+x+NhHRoaCsDDDz9MVFQUoaGhTJgwgRUrVpDl69ufpkyBiy+Gf/0LVq70+tvpcBARKVFamhk8OBzw9tvmKqD4JY+HdVhYGI0aNSryMVuPnEsjPNycdw1mlJ2T49W30+EgIlKixx6DjAwYNcqsqxG/5ZVlzffffz8zZswgNTWV48ePM3HiRG6++ebCUbdPGzgQbr0Vtm8v00Ef5aHDQUSkWF99BR9+CA0amPai4te8shq8oKCAJ598krlz5wJw4403MmPGDC655JLzF2TH1eB/lJQEzZvDiROwcaP52kt0OIiInCM727RD3rkTPv0U7rrL6oqkgtQb3FtefRXGjoXrroPVqytt77WICE88AdOmQa9esGiRDurwAwprb8nPNyvEN2yAt96CBx6wuiIRCQQ//QTt20ONGrB1K0RGWl2ReIAO8vCWKlXM6kun0/TgTUmxuiIR8XcnTsDf/mb2Vr/8soI6gCisK+Kaa8xqzMxMePBBc+KNiIi3TJsGCQlw/fVQjg6R4rt0GbyisrMhOhp27DArMwcPtroiEbGpwgWja5NIyThOZFgIQzs1Lt2C0e3boVUr83VCAlx5pfcLlkqjOevKsGoVdO0KdeuaOaSLLrK6IhGxmQodzONywY03wn//C5Mnm0M7xK9ozroy3HCDWWB28CCMGWN1NSJiQ7EJe4lLTKPgZFCDaRtc4HITl5hGbMLe4l88e7YJ6latzEpwCTgKa0/55z/NYo/582HJEqurERGbKffBPLt2mZaiQUGm1XHVql6sUuxKYe0ptWrB//yP+fqBB0wLQBGRk8p1MI/bDcOHQ1YW/OMf0LatN0sUG1NYe9Jtt8HQobB3Lzz6qNXViIiNlOtgnrffhm++MV0Sx43zZnlicwprT3vtNahfH+bMgc8+s7oaEbGJMh/Mk5wMjz9uLn/PmQPBwd4vUmxLYe1pdeqYT8Ng9kEePmxtPSJiC2U6mMfthhEj4NgxM1/drp0VJYuNaOuWtwwbZj4NDxkC8+ZZXY2I2ECpD+Z5+21zDG+zZqalcbVq1hUtlUL7rK2SkQEtWkBqqmm0/+c/W12RiPiCnTvNFq2cHFi7VudUBwiFtZW++MIsOqtXD7ZsMU1TRESKU1Bgmp+sXg3jx8PEiSU+vUId0cRWFNZWGz4c3n0X+vaFhQt1lJ2IFO/U0btt2sC6dXDBBcU+tUId0cR2FNZWy8w0vcOTkszc9ZAhVlckIna0davZR+12m2MwW7Qo8emLNqYydmECBUU0WglyOnilfzS92zTwVrXiYWo3arVateD9982IetQo2LPH6opExG5OnIB774XcXHjhhfMGNVSgI5r4JIV1Zbj+erNf8sgR+OtfTVN+EZFTJk2CH3+Ezp3NZfBSKFdHNPFZCuvK8sIL0LKl6UY0Y4bV1YiIXXz3nQnr0FCYO9c0QSmFcnVEE5+lsK4swcFmzrpqVXj6aUhMtLoiEbHa0aNmHYvLBW+8AU2alPqlZe6IJj5NYV2ZoqPNJ+icHPjLX8z8lEiAcrncLNqYSt8319BhynL6vrmGRRtTi52H9UtjxphTtfr0MVNkZVCmjmji87QavLK5XNCtG6xYYQ77ePVVqysSqXTadgR88gn062fOEti0qVx9GErdEU1sT1u37CglxXQoSk+HL7+EHj2srkikUgX8tqPUVPMz4PBhiIuDW26xuiKxmLZu2VFkJPzv/5qv770XDhywth6RShbQ244KCsxRuocPw+jRCmopFYW1Vfr2hb/9Dfbtg/vuM40QRAJEQG87+uc/zTRYy5bw8stWVyM+QmFtpddeg8svN+dez5pldTUilSZgtx2tXQvPPQchIfB//6fTtKTUFNZWCg2F+fPNdq6xYyE+3uqKRCpFQG47ysiAwYPNZfA33jDHX4qUksLaatdcYy6F5eXBwIHmsHkRPxdw247cbnjgAUhOhv79zRSYSBloNbgduN3Qq5e5HD50qOklLuLnAmrb0bvvmhP4oqLMFbSwMKsrEpvR1i1fcfAgtG5ttnTMnQv33GN1RSLiCZs3Q/v25rCO//4XrrvO6orEhrR1y1fUrQsffghOJzz0EPzyi9UViUhFHTtmLnvn5MCLLyqopdwU1nbSpQs8/zxkZZn/wbP9ePuKiL87NU+9bRvcfnupT9MSKYoug9tNQQH07AnLl5uGKf/6lzkLW0R8yzvvwIgR0LAhbNwIF15odUViY5qz9kX790ObNrB3r/kfXitHRXzLpk3QoQPk55t56k6drK5IbM7SOevjx4/TtGlTwrTysWwuvtg0TAgKglGjtP9axJdkZJgOhafmqRXU4gFeDevnnnuOqCg/bG5QGf70J3jpJfM/fL9+cOSI1RWJyPm4XOaoyx07oHdvzVOLx3gtrH/66Sfi4uJ46qmnvPUW/m/sWPjzn+G338wPAJfL6opEpCQvvwyLF5s2wnPmaL2JeIxXwjo/P58RI0Ywa9YsLrjgghKfGxMTg8PhKLzJGRwO8z98kyawaJE5AEBE7Onrr+HZZ03f708+gdq1ra5I/IhXwnrq1Km0adOGLl26nPe5MTExuN3uwpv8QVgY/Oc/UL26+UHw1VdWVyQif5SSYvp+u1zm+NuWLa2uSPyMx8N6x44dzJ49m6lTp3r6Wweuli1Nu0K32/xA2LXL6opE5JScHLOg7MABsyD07rutrkj8kMfD+ttvvyUtLY0rrriCunXr8uc//5nMzEzq1q3L+vXrPf12gWPQIHjsMXNgfZ8+apgiYgduNzz4IHz/velO9sorVlckfsrj+6yzs7M5fPhw4e/Xrl3L8OHDSUxM5OKLLz7vHLb2WZcgPx+6d4eVK82n93nztIBFxEozZ8Lo0RARAT/9BJdcYnVF4qPOl31VPP2G1atXp3r10wfHX3TRRTgcDiIjIz39VoGnShWz/7pdO/j3vyE6Gp54wuqqRALTypXwyCMQHGzWlSioxYvUwcwXbdhg9mHn5MDSpXDrrVZXJBJYkpPNh+aDB01L4L/+1eqKxMfp1C1/1Lat+QHhdpu5bJ3QJVJ5srJMw5ODB+HhhxXUUikU1r5q4ECzlSsz0zROyciwuiIR/+dywdChpgXwjTfCtGlWVyQBQmHtyyZONEG9fbsJ7/x8qysS8W/jx5v56aZN4eOPoWpVqyuSAKE5a1939KjZMrJli9lCMmuWVoiLeMMHH5hRde3asH49XHml1RWJH9ERmYEgORnatzdHa772GowZY3VFIv5l7Vro2tWcN//FF2YLpYgHaYFZIIiKgthYqFYNHn0UPvvM6opE/MfOnWa6KS8P3nhDQS2WUFj7iw4dYO7c0yvEExKsrkjE9x0+DLfddrqV6EMPWV2RBCiFtT8ZMAAmTTJbS26/3RwuICLlk5sLd90F27bBnXeaKSYRi2jO2t+43XDffeZozRYt4NtvdVSfSFm5XDBkCMyfD9dcA6tWQY0aVlclfkxz1oHG4YC33zbzalu2mJFBXp7VVYn4lvHjTVBHRZk1IApqsZjC2h9VrWr2gLZuDStWmJG2y2V1VSK+4c03YcoUc0Vq6VL1/BZbUFj7q1q1zA+aRo3MoR/PPGN1RSL29/HHZiFZcDAsXgzNm1tdkQigOWv/t3UrdO5s2pG++qrZ2iXih1wuN7EJe5m3NomUjONEhoUwtFNjekVH4HSWolHQihXQsyecOAELF0Lfvt4vWuQkNUURs8isRw84ftxs77rnHqsrEvEol8vN6PkbiEtMw+Vy4wYcgNPpoGfzeswY3LbkwE5IgC5dTK/9t96CBx6orNJFAC0wEzDHaS5cCEFBZv56yRKrKxLxqNiEvcQlplFwMqgB3ECBy01cYhqxCXuLf/GOHWZEnZkJzz2noBZbUlgHittvN9u5CgrMfuzVq62uSMRj5q1NwuUqelTicrmZty656BempEC3brBvH/z97xAT470iRSpAYR1IhgwxjR1ycuCOO2DDBqsrEvGIlIzjFHcB0Q2kpmef+8CBA2aLY3Ky6fqnQ3DExhTWgWbMGLOHNDPTzGNv2WJ1RSIVFhkWQnEx6wAahFc/+86MDLjlFvjlF/PB9f33zTSRiE0prAPRhAnw2GNw6JC5BLh9u9UViVTI0E6Ni11A5nQ6GNox6vQdWVkmoDduhBtvhI8+0rnUYnsK6wDjcrlZFL+XvpfdxSft74C0NLK7dMW1c5fVpYmUW6/oCHo2r0eQ01E4wnYAQSdXg/eKjjB3ZmeboF6zxhwru3gxhIRYVbZIqWnrVgD54/YW3C6mff4afbd8w8GLGlDnh+9wRjWyukyRcincZ70umdT0bBqEV2dox6jT+6yPH4devWD5cmjTBr7+GsLDrS5bBNA+aznDoo2pjF2YQMEZq2aDXAW8vmQad/yymqzIKGp8txoaNrSwShEvyMmB3r3hyy8hOtoE9YUXWl2VSCHts5ZCRW1vKXAG8cgdY1l65Z+okZIMXbvCnj3WFCjiDbm50K+fCeoWLczIWkEtPkZhHUCK296SH1SFMXc+zvIWXWDnTgW2+I/jx83Jc0uXwtVXmxF13bpWVyVSZgrrAFLS9paCoCq8/fcXoH//04GdXEwjCRFfkJVl5qi/+MIcyPH113DxxVZXJVIuCusAcr7tLX/p3MSc0DVggAns66/Xti7xTUePwm23mUve0dHmkA4ddSk+TGEdQEq1vaVqVRPY99xjLoV36aLGKeJbjhwxDU/++19o1w6++QYuusjqqkQqRKvBA8x5t7ecfiKMHAmzZ0OdOmZxTrt21hUuUhppaeZQjvh46NgR4uKgdm2rqxI5L23dkvJzu+HJJ2HaNKhZ05zWdcMNVlclUrSkJNPre8cO05ls8WLz71bEB2jrlpSfwwEvv2zakx49ai4t/uc/Vlclcq6tW81RsDt2mP3Un3+uoBa/orCWkjkc5ozfmTMhL8/sV337baurEjlt/XqzGDI1FYYNM2e3V6tmdVUiHqWwltIZORIWLDAnE/397/DCC+YyuYiVYmPNJe/Dh83hNO++C1WqWF2ViMdpzlrK5uuvzWXGY8fg/vvNGcD64ShWeOstGDXKLIZ85RV49FGdRy0+SwvMxPN++gluv92svL3lFnPEYK1aVlclgcLlgmefhZdeggsuMGdRDxxodVUiFVLpC8xyc3MZMWIEl156KTVr1uSqq67ivffe8/TbiJWuuQbWrTPtG7/80swXpqRYXZUEguPH4e67TVCHhcGyZQpqCQgeD+v8/Hzq16/P8uXLyczMZM6cOYwdO5avvvrK028lVmrc2JwJfPPNsGkTdOgAGzZYXZX4s337zPz0ggUQFWX+/XXpYnVVIpWiUi6D9+nThxYtWjBx4sTzF6TL4L4lLw8eeAD+9S8ICYE5c0y70goobNyyNomUjONEhoUwtFPjcxu3SOBISIA77zRd9a67zmwhVJ9v8SOW77POycnh+++/p1WrVkU+HhMTg8PhKLyJj7ngArMCd+pUc2bwwIEwbpyZVywHl8vN6PkbGLswgQ27M0jLzGXD7gzGLkxg9PwN5xzxKQFg0SLo3NkE9dChOpBDApJXR9Zut5uhQ4eSmprK119/jdN5/s8GGln7ljNHwY3Wr2TSRy9SIycLd68/4/hgXpkbUyzamMrYhQkUFBHKQU4Hr/SPpnebBp4qX+ysoACefx4mTza/nzIFnn5aK77FL1m2GtztdvPQQw/x448/snz5cmqXsj+vwtp3nBoFxyWm4XK5cQNNDu3hnU9e4NL0vbivugrHp59Cs2al/p5931zDht0ZRZ677QDaRoXzyYPXeeqPIHaVng5/+Yvp7V2rFsybZ467FPFTllwGd7vdjBw5kvXr1/PVV1+VOqjFt8Qm7CUuMY2Ck0EN8NuFDfnzPa+y8rJ2OH75Ba691mztKqWUjONFBjWAG0hNz65o2WJ3mzaZQ2Pi4swHve+/V1BLwPNKWI8aNYo1a9awbNkywsPDvfEWYgPz1iYVOYecWS2U+/o9x/w7hkN2tpnHfuQRsxjtPCLDQijuIqcDaBBevUI1i4253fDOO2Znwc6d0LevaSV65ZVWVyZiOY+HdXJyMm+++Sbbtm0jKiqK0NBQQkNDeeCBBzz9VmKxkkbBLoeT1zsNNKOjCy+E1183J3bt2lXi9xzaqXGxK76dTgdDO0ZVsGqxpWPHzOKxESPgxAlzgMzChTqMQ+Qkj/eJjIqK0pxzgIgMC2F/Zm6x88sNwqtDj+vM/usBA0wjldat4X//t9jtXb2iI1i2dd9Z8+AOTFD3bF6PXtER3vsDiTU2bTL/HrZtg4YNzT7q67QuQeRMOshDyq3Uo+BGjWD1anjqKcjMNJfFR4yArKwiXzdjcFte6R9N26hwLqkVTNuocF7pH82MwW21z9qfuFzw2mvQvr0J6ttvh40bFdQiRVBvcCm3olaDnzkKLjJcly2De+4x3aiuuMKs8m3f3oryxUqpqfDXv8Ly5Wav/osvmnUNpdjeKeKPdJCHeFXhPut1yaSmZ9MgvDpDO0aV3G1s/35z7vDnn5sjN595xjRSueCCyi2+nNRhrYIWLjTHrKanQ4sW8O9/QzFNk0QChcJa7OnUyt/HHjOLi9q0MacntWhhdWUlKtfVBDHS0syRlh9/bH7/6KOm0Um1atbWJWIDCmuxt507zeXQ1auhalVz9OHTT0NwsNWVFUkd1srB7Yb58+Hhh+HQIXMIxzvvQLduVld2XrqKIpVFYS32V1BgtnaNG2eOQGzWzPwwt+FCI3VYK6Pdu81oeskS8/uRI838tA9sydJVFKlMlh/kIXJeQUHmcviWLdC9O/z8M/zpT/DQQ2Ze00bUYa2UTu2VbtbMBHWTJrByJcyc6RNBDUV36HMDBS43cYlpxCbstbI8CTAKa7GPyy6DL7+EuXMhPBzeesusGH/33XKf4uVp6rBWCt9+C23bmq16J06YqY1Nm0xTHB9SXIc+MKPueeuSK7kiCWQKa7EXh8Ns7frlF/jb3+DgQRg+HDp1gh9+sLo6dVgrye7d5vCN6683V0m6djXnUE+aBNV970OMrqKInSisxZ4uusjMW69bB9dcYw5zaN/etKRMtm5E0ys6gp7N6xHkdBSOsB2YxWUB22Ht2DEYP9708J4/H+rXN/vnv/mmTCeu2Y2uooidaIGZ2F9BAbz3nlmAtn+/WSk+Zgz84x8QFlbp5ZRrb7k/OnHCTFFMnAi//262YD3xBDz5JISGWl1dhWnlv1QmrQYX/3H0KEybZm7Z2VCnjgmHUaP8Ihx8RkGBGUE//7zZegcweDC89JJpLesntBpcKpPCWvzP3r0mKP71LxMcdeua0B45EmrUsLo6/1VQYBqaTJpk5qQBbr3V/L5tW2tr8xJdRZHKorAW//Xrr/DCC6Zdpctl5rnHjIEHHzSjbvGMEyfggw/MyHn7dnNf585mv/T111tbm4ifUFiL/9u2DSZMMEcrut1mdD1ihGln6UeXZStdRoZZK/D662alN5gV3s88Y7qPOTSyFPEUhbUEjh074JVXYM4cyMmBKlXgrrtMc5UbblC4lNb27TBjhplmOHWM6W23mf3SNuwqJ+IPFNYSePbvN52yZs2Cw4fNfVdfbUL77rstWUFue7m5sHix2S63bJm5r1o1GDLE9PRu2dLa+kT8nMJaAtfx4+Y4xlmzzD5tMNu+eveGe+81rU2rVLG0REu53aZpyfvvm9uhQ+b+yEjzwWbECLN4T0S8TmEtAvDjj/A//wMffQSZmea++vVhwADo29dc3g0KsrbGyrJtm5nfX7DAdIoD86GlVy/TLa5Hj8D5byFiEwprkTNlZ5vLvXPmwPLlp3uOX3IJ9OljAqtLFwgJsbRMjyooMFcWliwxt1PbrsBsuRo82HSGq1fPuhpFApzCWqQ4v/8OixaZvcMrV54O7pAQs+q5Z0+4+WbTMtPpY515k5NNu88VKyAuDg4cOP3Y1VfDoEEwcKA5KEVELKewFimNAwcgNha++MIssDp1qRzMnu3Onc2e4k6dIDraXsc85uXB5s1m9Lx+Pfz3v7Br1+nHq1QxVwvuvNPcmjSxrlYRKZLCWqSsTpwwoRcXB6tWmRDMyzv9uMMBTZuaS8itWpnR6RVXmPu8ebrUiROwZ4+ZZ05MPH3bvNms5j5TdDTcdBPceKMJ6tq1vVeXiFSYwlqkonJyzPGcq1ebhWobN0JSUtHPrV8fGjSAiAhzu+QSE5SnbjVrmpFuUJD51ek0QZuTY27Z2Wa72aFD5njQAwdMQCcnmzarRZ3rXaeOOZHs1K1DB63iFvExCmsRb0hPh/h42LrVNBHZvt20P01KMgu6PM3pNB8CoqLMKL55czP33Ly52Wr1h4YvhT2t1yaRknGcyLAQhnZqrJ7WIjalsBapTAUFZkScmmpGwmlpcOSIuWVmmpPD8vPN807dqlU7+1anjhkZX3ih+TUy0gR11aqlKkGnRYn4HoW1SIDROcwivud82edj+1FE5HzmrU3CVURQgxl1z1uXXMkViUhFBXCvRRH/lJJxnOI+n7uB1PTsMn9PzYGLWEthLeJnIsNC2J+ZW2RgO4AG4WXbXlbUHPj+zFziUxJYtnWf5sBFKoEug4v4maGdGhcbnk6ng6Edo8r0/WIT9hKXmEbByaAGM0IvcLmJS0wjNmFvxQoWkfNSWIv4mV7REfRsXo8gp4NTke3ALC7r2bwevaIjyvT9NAcuYj1dBhfxM06ngxmD25o55nXJpKZn0yC8OkM7RpVrjtkbc+AiUjYKaxE/5HQ66N2mgUe2aHl6DlxEyk6XwUWkRJ6eAxeRsvNKWJ84cYJRo0YRHh5OnTp1GD16NPn5+d54KxHxMk/PgYtI2Xmlg9nzzz/P4sWL+eKLLwC49dZb6dOnD88999z5C1IHMxHbKdxn7YE5cBE5lyXtRhs2bMj06dPp168fAAsXLuTxxx8nOfn8q0YV1iIiEmgqvd1oeno6KSkptG7duvC+1q1bs3v3bo4cOXLO82NiYnA4HIU3EREROZvHw/rYsWMAhIWFFd536uujR4+e8/yYmBjcbnfhTURERM7m8a1boaGhABw5coS6desWfg1Qs2ZNT7+dyHn5Ql9rX6hRRKzj8bAODw8nMjKS+Ph4mjRpAkB8fDwNGzakdu3ann47kRL5Ql9rX6hRRKzlla1bw4YNY/Lkyezbt499+/YxZcoUhg8f7o23EimRL/S19oUaRcRaXgnr8ePH06lTJ5o1a0azZs3o3LkzzzzzjDfeSqREvtDX2hdqFBFreaXdaNWqVZk1axazZs3yxrcXKTVf6GvtCzWKiLXUblT8WmRYCMXN9tqlr7Uv1Cgi1lJYi1/zhb7WvlCjiFhLYS1+zRf6WvtCjSJiLa+0G60ItRsVT/OFvta+UKOIeI8lvcErQmEtIiKBptJ7g4uIiIhnKaxFRERsTmEtIiJicwprERERm1NYi4iI2JzCWkRExOYU1iIiIjansBYREbE5hbWIiIjNKaxFRERsTmEtIiJicwprERERm1NYi4iI2JzCWkRExOYU1iIiIjansBYREbE5hbWIiIjNKaxFRERsTmEtIiJicwprERERm1NYi4iI2JzCWkRExOYU1iIiIjansBYREbE5hbWIiIjNKaxFRERsTmEtIiJicwprERERm1NYi4iI2JxHw3rp0qV06dKF8PBwLr74Yvr160dKSoon30JERCTgeDSsjxw5wlNPPcWePXvYtWsXtWrVYsCAAZ58CxERkYDjcLvdbm99802bNtGmTRtyc3OpUqVK6QpyOPBiSSIiIrZzvuzz6pz1qlWraNasWYlBHRMTg8PhKLyJiIjI2Uo9sr7jjjtYunRpsY/v2rWLxo0bF/5+48aN3HjjjSxcuJDu3buXviCNrEVEJMCcL/tKHdaZmZnk5eUV+3idOnVwOs1AffPmzXTv3p1p06YxZMgQjxYsIiLibzwW1qW1efNmunXrxksvvcSwYcPK/HqFtYiIBJpKnbNOTEykW7duTJo0qVxBLSIiIufy6Mh62LBhzJ07l+rVq591/9atW2nUqFHpCtLIWkREAkylXwavKIW1iIgEGku3bomIiEjFKaxFRERsTmEtIiJicwprERERm1NYi4iI2JzCWkRExOYU1iIiIjansBYREbE5hbWIiIjNKaxFRERsTmEtIiJicwprERERm1NYi4iI2JzCWkRExOYU1iIiIjZXxeoCiuJwOKwuQURExDZsF9YlHb7tTec7+Fu8T38H1tJ/f+vp78B6dv070GVwERERm1NYi4iI2JzC+qTnn3/e6hICnv4OrKX//tbT34H17Pp34HDb8eK8iIiIFNLIWkRExOYU1iIiIjansBYREbE5hbWIiIjNKaxFRERsTmF9hqVLl9KlSxfCw8O5+OKL6devHykpKVaXFVB+//13evXqRUREBA6Hg/j4eKtL8nsnTpxg1KhRhIeHU6dOHUaPHk1+fr7VZQWMmTNn0q5dO4KDg+ndu7fV5QSk3NxcRowYwaWXXkrNmjW56qqreO+996wu6ywK6zMcOXKEp556ij179rBr1y5q1arFgAEDrC4roDidTnr27MmiRYusLiVgTJo0iW+//ZatW7eSmJjI6tWrmTJlitVlBYyIiAjGjRvHiBEjrC4lYOXn51O/fn2WL19OZmYmc+bMYezYsXz11VdWl1ZI+6xLsGnTJtq0aUNubi5VqtiujbrfczgcbNy4kdatW1tdil9r2LAh06dPp1+/fgAsXLiQxx9/nOTkZIsrCywxMTHEx8frg6pN9OnThxYtWjBx4kSrSwE0si7RqlWraNasmYJa/FZ6ejopKSlnfSBq3bo1u3fv5siRI9YVJmKhnJwcvv/+e1q1amV1KYUCJqzvuOMOHA5HsbekpKSznr9x40bGjx/P9OnTrSnYD5X170C879ixYwCEhYUV3nfq66NHj1pQkYi13G43w4cP5/LLL6dPnz5Wl1MoYIaMH374IXl5ecU+XqdOncKvN2/ezK233srMmTPp3r17ZZQXEMrydyCVIzQ0FDDrNerWrVv4NUDNmjUtq0vECm63m4ceeoht27axfPlynE77jGcDJqxr1apVqudt3ryZbt268dJLLzFkyBAvVxVYSvt3IJUnPDycyMhI4uPjadKkCQDx8fE0bNiQ2rVrW1ydSOVxu92MHDmS9evX8/XXX9vu3799PjbYQGJiIt26dWPSpEkMGzbM6nICVk5ODjk5OQDk5eWRk5ODy+WyuCr/NWzYMCZPnsy+ffvYt28fU6ZMYfjw4VaXFTDy8/PJyckhPz8fl8tFTk5OiVegxDtGjRrFmjVrWLZsGeHh4VaXcw6tBj/DsGHDmDt3LtWrVz/r/q1bt9KoUSOLqgo8DofjnPtWrFhB165dK7+YAHDixAkeeeQRPvzwQwCGDBnC9OnTtbCyksTExDBhwoSz7rvhhhtYuXKlNQUFoOTkZBo3bkxwcPBZ/+6HDBnC7NmzLazsNIW1iIiIzekyuIiIiM0prEVERGxOYS0iImJzCmsRERGbU1iLiIjYnMJaRETE5hTWIiIiNqewFhERsTmFtYiIiM0prEVERGzu/wFYBUq6Utj4FwAAAABJRU5ErkJggg==\n"
                },
                "metadata": {}
              }
            ]
          }
        },
        "7a80c3da2ae34992a6da7f9b6be19526": {
          "model_module": "@jupyter-widgets/base",
          "model_name": "LayoutModel",
          "model_module_version": "1.2.0",
          "state": {
            "_model_module": "@jupyter-widgets/base",
            "_model_module_version": "1.2.0",
            "_model_name": "LayoutModel",
            "_view_count": null,
            "_view_module": "@jupyter-widgets/base",
            "_view_module_version": "1.2.0",
            "_view_name": "LayoutView",
            "align_content": null,
            "align_items": null,
            "align_self": null,
            "border": null,
            "bottom": null,
            "display": null,
            "flex": null,
            "flex_flow": null,
            "grid_area": null,
            "grid_auto_columns": null,
            "grid_auto_flow": null,
            "grid_auto_rows": null,
            "grid_column": null,
            "grid_gap": null,
            "grid_row": null,
            "grid_template_areas": null,
            "grid_template_columns": null,
            "grid_template_rows": null,
            "height": null,
            "justify_content": null,
            "justify_items": null,
            "left": null,
            "margin": null,
            "max_height": null,
            "max_width": null,
            "min_height": null,
            "min_width": null,
            "object_fit": null,
            "object_position": null,
            "order": null,
            "overflow": null,
            "overflow_x": null,
            "overflow_y": null,
            "padding": null,
            "right": null,
            "top": null,
            "visibility": null,
            "width": null
          }
        },
        "6011278114e242a09afe6ce4664ec61f": {
          "model_module": "@jupyter-widgets/base",
          "model_name": "LayoutModel",
          "model_module_version": "1.2.0",
          "state": {
            "_model_module": "@jupyter-widgets/base",
            "_model_module_version": "1.2.0",
            "_model_name": "LayoutModel",
            "_view_count": null,
            "_view_module": "@jupyter-widgets/base",
            "_view_module_version": "1.2.0",
            "_view_name": "LayoutView",
            "align_content": null,
            "align_items": null,
            "align_self": null,
            "border": null,
            "bottom": null,
            "display": null,
            "flex": null,
            "flex_flow": null,
            "grid_area": null,
            "grid_auto_columns": null,
            "grid_auto_flow": null,
            "grid_auto_rows": null,
            "grid_column": null,
            "grid_gap": null,
            "grid_row": null,
            "grid_template_areas": null,
            "grid_template_columns": null,
            "grid_template_rows": null,
            "height": null,
            "justify_content": null,
            "justify_items": null,
            "left": null,
            "margin": null,
            "max_height": null,
            "max_width": null,
            "min_height": null,
            "min_width": null,
            "object_fit": null,
            "object_position": null,
            "order": null,
            "overflow": null,
            "overflow_x": null,
            "overflow_y": null,
            "padding": null,
            "right": null,
            "top": null,
            "visibility": null,
            "width": null
          }
        },
        "572b82abacaf4bcbb8ad1a0e16c49ce2": {
          "model_module": "@jupyter-widgets/controls",
          "model_name": "SliderStyleModel",
          "model_module_version": "1.5.0",
          "state": {
            "_model_module": "@jupyter-widgets/controls",
            "_model_module_version": "1.5.0",
            "_model_name": "SliderStyleModel",
            "_view_count": null,
            "_view_module": "@jupyter-widgets/base",
            "_view_module_version": "1.2.0",
            "_view_name": "StyleView",
            "description_width": "",
            "handle_color": null
          }
        },
        "24f51c154adb41878c432ffd77f9dd4b": {
          "model_module": "@jupyter-widgets/base",
          "model_name": "LayoutModel",
          "model_module_version": "1.2.0",
          "state": {
            "_model_module": "@jupyter-widgets/base",
            "_model_module_version": "1.2.0",
            "_model_name": "LayoutModel",
            "_view_count": null,
            "_view_module": "@jupyter-widgets/base",
            "_view_module_version": "1.2.0",
            "_view_name": "LayoutView",
            "align_content": null,
            "align_items": null,
            "align_self": null,
            "border": null,
            "bottom": null,
            "display": null,
            "flex": null,
            "flex_flow": null,
            "grid_area": null,
            "grid_auto_columns": null,
            "grid_auto_flow": null,
            "grid_auto_rows": null,
            "grid_column": null,
            "grid_gap": null,
            "grid_row": null,
            "grid_template_areas": null,
            "grid_template_columns": null,
            "grid_template_rows": null,
            "height": null,
            "justify_content": null,
            "justify_items": null,
            "left": null,
            "margin": null,
            "max_height": null,
            "max_width": null,
            "min_height": null,
            "min_width": null,
            "object_fit": null,
            "object_position": null,
            "order": null,
            "overflow": null,
            "overflow_x": null,
            "overflow_y": null,
            "padding": null,
            "right": null,
            "top": null,
            "visibility": null,
            "width": null
          }
        },
        "7feaf06a11024f6cb0f353f345d8593b": {
          "model_module": "@jupyter-widgets/controls",
          "model_name": "SliderStyleModel",
          "model_module_version": "1.5.0",
          "state": {
            "_model_module": "@jupyter-widgets/controls",
            "_model_module_version": "1.5.0",
            "_model_name": "SliderStyleModel",
            "_view_count": null,
            "_view_module": "@jupyter-widgets/base",
            "_view_module_version": "1.2.0",
            "_view_name": "StyleView",
            "description_width": "",
            "handle_color": null
          }
        },
        "ea43722a9d4347d4b25eb61b7e754be8": {
          "model_module": "@jupyter-widgets/base",
          "model_name": "LayoutModel",
          "model_module_version": "1.2.0",
          "state": {
            "_model_module": "@jupyter-widgets/base",
            "_model_module_version": "1.2.0",
            "_model_name": "LayoutModel",
            "_view_count": null,
            "_view_module": "@jupyter-widgets/base",
            "_view_module_version": "1.2.0",
            "_view_name": "LayoutView",
            "align_content": null,
            "align_items": null,
            "align_self": null,
            "border": null,
            "bottom": null,
            "display": null,
            "flex": null,
            "flex_flow": null,
            "grid_area": null,
            "grid_auto_columns": null,
            "grid_auto_flow": null,
            "grid_auto_rows": null,
            "grid_column": null,
            "grid_gap": null,
            "grid_row": null,
            "grid_template_areas": null,
            "grid_template_columns": null,
            "grid_template_rows": null,
            "height": null,
            "justify_content": null,
            "justify_items": null,
            "left": null,
            "margin": null,
            "max_height": null,
            "max_width": null,
            "min_height": null,
            "min_width": null,
            "object_fit": null,
            "object_position": null,
            "order": null,
            "overflow": null,
            "overflow_x": null,
            "overflow_y": null,
            "padding": null,
            "right": null,
            "top": null,
            "visibility": null,
            "width": null
          }
        },
        "172c4da9199341b48b329f47eefbb10d": {
          "model_module": "@jupyter-widgets/controls",
          "model_name": "SliderStyleModel",
          "model_module_version": "1.5.0",
          "state": {
            "_model_module": "@jupyter-widgets/controls",
            "_model_module_version": "1.5.0",
            "_model_name": "SliderStyleModel",
            "_view_count": null,
            "_view_module": "@jupyter-widgets/base",
            "_view_module_version": "1.2.0",
            "_view_name": "StyleView",
            "description_width": "",
            "handle_color": null
          }
        },
        "328e041f5b4944d0b673e2eed6c06b26": {
          "model_module": "@jupyter-widgets/base",
          "model_name": "LayoutModel",
          "model_module_version": "1.2.0",
          "state": {
            "_model_module": "@jupyter-widgets/base",
            "_model_module_version": "1.2.0",
            "_model_name": "LayoutModel",
            "_view_count": null,
            "_view_module": "@jupyter-widgets/base",
            "_view_module_version": "1.2.0",
            "_view_name": "LayoutView",
            "align_content": null,
            "align_items": null,
            "align_self": null,
            "border": null,
            "bottom": null,
            "display": null,
            "flex": null,
            "flex_flow": null,
            "grid_area": null,
            "grid_auto_columns": null,
            "grid_auto_flow": null,
            "grid_auto_rows": null,
            "grid_column": null,
            "grid_gap": null,
            "grid_row": null,
            "grid_template_areas": null,
            "grid_template_columns": null,
            "grid_template_rows": null,
            "height": null,
            "justify_content": null,
            "justify_items": null,
            "left": null,
            "margin": null,
            "max_height": null,
            "max_width": null,
            "min_height": null,
            "min_width": null,
            "object_fit": null,
            "object_position": null,
            "order": null,
            "overflow": null,
            "overflow_x": null,
            "overflow_y": null,
            "padding": null,
            "right": null,
            "top": null,
            "visibility": null,
            "width": null
          }
        },
        "61ebb9040f654103ae28384762bf9b0f": {
          "model_module": "@jupyter-widgets/controls",
          "model_name": "VBoxModel",
          "model_module_version": "1.5.0",
          "state": {
            "_dom_classes": [
              "widget-interact"
            ],
            "_model_module": "@jupyter-widgets/controls",
            "_model_module_version": "1.5.0",
            "_model_name": "VBoxModel",
            "_view_count": null,
            "_view_module": "@jupyter-widgets/controls",
            "_view_module_version": "1.5.0",
            "_view_name": "VBoxView",
            "box_style": "",
            "children": [
              "IPY_MODEL_15178f95e6984ebdb78f7578eed0beb9",
              "IPY_MODEL_9f285107150649e1ae5591ff2a901e28",
              "IPY_MODEL_e0c3d3483ba5474e8f030da134551abd"
            ],
            "layout": "IPY_MODEL_2f23513b00f64a3e9fcae7914d41a890"
          }
        },
        "15178f95e6984ebdb78f7578eed0beb9": {
          "model_module": "@jupyter-widgets/controls",
          "model_name": "FloatSliderModel",
          "model_module_version": "1.5.0",
          "state": {
            "_dom_classes": [],
            "_model_module": "@jupyter-widgets/controls",
            "_model_module_version": "1.5.0",
            "_model_name": "FloatSliderModel",
            "_view_count": null,
            "_view_module": "@jupyter-widgets/controls",
            "_view_module_version": "1.5.0",
            "_view_name": "FloatSliderView",
            "continuous_update": true,
            "description": "m",
            "description_tooltip": null,
            "disabled": false,
            "layout": "IPY_MODEL_4a57ce41a60d43daa2a414984956bb69",
            "max": 4.5,
            "min": -1.5,
            "orientation": "horizontal",
            "readout": true,
            "readout_format": ".2f",
            "step": 0.1,
            "style": "IPY_MODEL_0cc5124f4e8f492db45df44b2ea23faf",
            "value": 4
          }
        },
        "9f285107150649e1ae5591ff2a901e28": {
          "model_module": "@jupyter-widgets/controls",
          "model_name": "FloatSliderModel",
          "model_module_version": "1.5.0",
          "state": {
            "_dom_classes": [],
            "_model_module": "@jupyter-widgets/controls",
            "_model_module_version": "1.5.0",
            "_model_name": "FloatSliderModel",
            "_view_count": null,
            "_view_module": "@jupyter-widgets/controls",
            "_view_module_version": "1.5.0",
            "_view_name": "FloatSliderView",
            "continuous_update": true,
            "description": "b",
            "description_tooltip": null,
            "disabled": false,
            "layout": "IPY_MODEL_5b55acf01acf40b4b638e7103059c808",
            "max": 4.5,
            "min": -1.5,
            "orientation": "horizontal",
            "readout": true,
            "readout_format": ".2f",
            "step": 0.1,
            "style": "IPY_MODEL_87384322e2b748fe9ad5b486ce108ba0",
            "value": 3.5
          }
        },
        "e0c3d3483ba5474e8f030da134551abd": {
          "model_module": "@jupyter-widgets/output",
          "model_name": "OutputModel",
          "model_module_version": "1.0.0",
          "state": {
            "_dom_classes": [],
            "_model_module": "@jupyter-widgets/output",
            "_model_module_version": "1.0.0",
            "_model_name": "OutputModel",
            "_view_count": null,
            "_view_module": "@jupyter-widgets/output",
            "_view_module_version": "1.0.0",
            "_view_name": "OutputView",
            "layout": "IPY_MODEL_2f5cb26961f4431e806e6658ed1ba1b1",
            "msg_id": "",
            "outputs": [
              {
                "output_type": "display_data",
                "data": {
                  "text/plain": "<Figure size 576x432 with 1 Axes>",
                  "image/png": "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\n"
                },
                "metadata": {}
              }
            ]
          }
        },
        "2f23513b00f64a3e9fcae7914d41a890": {
          "model_module": "@jupyter-widgets/base",
          "model_name": "LayoutModel",
          "model_module_version": "1.2.0",
          "state": {
            "_model_module": "@jupyter-widgets/base",
            "_model_module_version": "1.2.0",
            "_model_name": "LayoutModel",
            "_view_count": null,
            "_view_module": "@jupyter-widgets/base",
            "_view_module_version": "1.2.0",
            "_view_name": "LayoutView",
            "align_content": null,
            "align_items": null,
            "align_self": null,
            "border": null,
            "bottom": null,
            "display": null,
            "flex": null,
            "flex_flow": null,
            "grid_area": null,
            "grid_auto_columns": null,
            "grid_auto_flow": null,
            "grid_auto_rows": null,
            "grid_column": null,
            "grid_gap": null,
            "grid_row": null,
            "grid_template_areas": null,
            "grid_template_columns": null,
            "grid_template_rows": null,
            "height": null,
            "justify_content": null,
            "justify_items": null,
            "left": null,
            "margin": null,
            "max_height": null,
            "max_width": null,
            "min_height": null,
            "min_width": null,
            "object_fit": null,
            "object_position": null,
            "order": null,
            "overflow": null,
            "overflow_x": null,
            "overflow_y": null,
            "padding": null,
            "right": null,
            "top": null,
            "visibility": null,
            "width": null
          }
        },
        "4a57ce41a60d43daa2a414984956bb69": {
          "model_module": "@jupyter-widgets/base",
          "model_name": "LayoutModel",
          "model_module_version": "1.2.0",
          "state": {
            "_model_module": "@jupyter-widgets/base",
            "_model_module_version": "1.2.0",
            "_model_name": "LayoutModel",
            "_view_count": null,
            "_view_module": "@jupyter-widgets/base",
            "_view_module_version": "1.2.0",
            "_view_name": "LayoutView",
            "align_content": null,
            "align_items": null,
            "align_self": null,
            "border": null,
            "bottom": null,
            "display": null,
            "flex": null,
            "flex_flow": null,
            "grid_area": null,
            "grid_auto_columns": null,
            "grid_auto_flow": null,
            "grid_auto_rows": null,
            "grid_column": null,
            "grid_gap": null,
            "grid_row": null,
            "grid_template_areas": null,
            "grid_template_columns": null,
            "grid_template_rows": null,
            "height": null,
            "justify_content": null,
            "justify_items": null,
            "left": null,
            "margin": null,
            "max_height": null,
            "max_width": null,
            "min_height": null,
            "min_width": null,
            "object_fit": null,
            "object_position": null,
            "order": null,
            "overflow": null,
            "overflow_x": null,
            "overflow_y": null,
            "padding": null,
            "right": null,
            "top": null,
            "visibility": null,
            "width": null
          }
        },
        "0cc5124f4e8f492db45df44b2ea23faf": {
          "model_module": "@jupyter-widgets/controls",
          "model_name": "SliderStyleModel",
          "model_module_version": "1.5.0",
          "state": {
            "_model_module": "@jupyter-widgets/controls",
            "_model_module_version": "1.5.0",
            "_model_name": "SliderStyleModel",
            "_view_count": null,
            "_view_module": "@jupyter-widgets/base",
            "_view_module_version": "1.2.0",
            "_view_name": "StyleView",
            "description_width": "",
            "handle_color": null
          }
        },
        "5b55acf01acf40b4b638e7103059c808": {
          "model_module": "@jupyter-widgets/base",
          "model_name": "LayoutModel",
          "model_module_version": "1.2.0",
          "state": {
            "_model_module": "@jupyter-widgets/base",
            "_model_module_version": "1.2.0",
            "_model_name": "LayoutModel",
            "_view_count": null,
            "_view_module": "@jupyter-widgets/base",
            "_view_module_version": "1.2.0",
            "_view_name": "LayoutView",
            "align_content": null,
            "align_items": null,
            "align_self": null,
            "border": null,
            "bottom": null,
            "display": null,
            "flex": null,
            "flex_flow": null,
            "grid_area": null,
            "grid_auto_columns": null,
            "grid_auto_flow": null,
            "grid_auto_rows": null,
            "grid_column": null,
            "grid_gap": null,
            "grid_row": null,
            "grid_template_areas": null,
            "grid_template_columns": null,
            "grid_template_rows": null,
            "height": null,
            "justify_content": null,
            "justify_items": null,
            "left": null,
            "margin": null,
            "max_height": null,
            "max_width": null,
            "min_height": null,
            "min_width": null,
            "object_fit": null,
            "object_position": null,
            "order": null,
            "overflow": null,
            "overflow_x": null,
            "overflow_y": null,
            "padding": null,
            "right": null,
            "top": null,
            "visibility": null,
            "width": null
          }
        },
        "87384322e2b748fe9ad5b486ce108ba0": {
          "model_module": "@jupyter-widgets/controls",
          "model_name": "SliderStyleModel",
          "model_module_version": "1.5.0",
          "state": {
            "_model_module": "@jupyter-widgets/controls",
            "_model_module_version": "1.5.0",
            "_model_name": "SliderStyleModel",
            "_view_count": null,
            "_view_module": "@jupyter-widgets/base",
            "_view_module_version": "1.2.0",
            "_view_name": "StyleView",
            "description_width": "",
            "handle_color": null
          }
        },
        "2f5cb26961f4431e806e6658ed1ba1b1": {
          "model_module": "@jupyter-widgets/base",
          "model_name": "LayoutModel",
          "model_module_version": "1.2.0",
          "state": {
            "_model_module": "@jupyter-widgets/base",
            "_model_module_version": "1.2.0",
            "_model_name": "LayoutModel",
            "_view_count": null,
            "_view_module": "@jupyter-widgets/base",
            "_view_module_version": "1.2.0",
            "_view_name": "LayoutView",
            "align_content": null,
            "align_items": null,
            "align_self": null,
            "border": null,
            "bottom": null,
            "display": null,
            "flex": null,
            "flex_flow": null,
            "grid_area": null,
            "grid_auto_columns": null,
            "grid_auto_flow": null,
            "grid_auto_rows": null,
            "grid_column": null,
            "grid_gap": null,
            "grid_row": null,
            "grid_template_areas": null,
            "grid_template_columns": null,
            "grid_template_rows": null,
            "height": null,
            "justify_content": null,
            "justify_items": null,
            "left": null,
            "margin": null,
            "max_height": null,
            "max_width": null,
            "min_height": null,
            "min_width": null,
            "object_fit": null,
            "object_position": null,
            "order": null,
            "overflow": null,
            "overflow_x": null,
            "overflow_y": null,
            "padding": null,
            "right": null,
            "top": null,
            "visibility": null,
            "width": null
          }
        }
      }
    }
  },
  "nbformat": 4,
  "nbformat_minor": 5
}